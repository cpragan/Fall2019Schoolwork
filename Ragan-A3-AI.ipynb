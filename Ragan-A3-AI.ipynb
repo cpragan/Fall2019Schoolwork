{
 "cells": [
  {
   "cell_type": "markdown",
   "metadata": {},
   "source": [
    "# CMSC471 - Assignment 3: CSP and Propositional Logic"
   ]
  },
  {
   "cell_type": "markdown",
   "metadata": {},
   "source": [
    "*Connor Ragan AN72374*"
   ]
  },
  {
   "cell_type": "markdown",
   "metadata": {},
   "source": [
    "## Overview and Learning Objectives"
   ]
  },
  {
   "cell_type": "markdown",
   "metadata": {},
   "source": [
    "- In *Part I* of this assignment, you will practice CSP using `python-constraint` module for preliminary steps of a course scheduling system.\n",
    "\n",
    "- In *Part II* of this assignment, you will do some exerices on propositional logic.\n",
    "\n",
    "Pedagogically, this assignment will help you:\n",
    "- better understand CSP definition, formalization and solutions. \n",
    "- better understand and practice propositional logic, logical statements, syntax, semantics, and equivalencies."
   ]
  },
  {
   "cell_type": "markdown",
   "metadata": {},
   "source": [
    "## Part I - CSP in Python for Course Scheduling"
   ]
  },
  {
   "cell_type": "markdown",
   "metadata": {},
   "source": [
    "As mentioned in the lectures, one of the applications of CSP is for solving scheduling problems. Scheduling at large scales is generally a hard problem and includes various types such as task scheduling. Course scheduling at academic institutions is a challenging process. In this part, you are given a simplified version of an introductory-level course scheduling problem.\n",
    "\n",
    "In this simplified problem, there is a fixed number of professors (two professors) and two classrooms, three AI/ML/NLP courses to be offered, as well as a list of possible days and time slots for classes. The simplified set of constraints includes a few faculty preferences and a classroom availability constraint.\n",
    "\n",
    "<b>CSP Definition:</b>\n",
    "\n",
    "Variables and domains:\n",
    "- There are two professors: `[\"Tim\", \"Fred\"]`\n",
    "\n",
    "- There are three courses: `[\"CMSC471\", \"CMSC478\", \"CMSC473\"]`\n",
    "\n",
    "- There are two available classrooms: `[\"ILSB116A\", \"ILSB233\"]`\n",
    "\n",
    "- There are two available days: `[\"Mon\", \"Thu\"]`\n",
    "\n",
    "- There are three time slots: `[\"11:30\", \"2:30\", \"4:00\"]`\n",
    "\n",
    "Constraints (faculty preferences and location availability):\n",
    "\n",
    "- Tim doesn't teach on Mon.\n",
    "\n",
    "- ILSB116A is not available on Mon.\n",
    "\n",
    "- Fred teaches only at 11:30.\n",
    "\n",
    "- Tim doesn't teach at 4:00.\n",
    "\n",
    "- Fred doesn't teach CMSC473.\n",
    "\n",
    "You need to install `python-constraint` for this assignment. It is available [here](https://github.com/python-constraint/python-constraint). In Linux, you can simply install using the terminal: <br>\n",
    "\n",
    "`$ pip install python-constraint`\n",
    "\n",
    "More documentation is available [here](http://labix.org/doc/constraint/).\n"
   ]
  },
  {
   "cell_type": "markdown",
   "metadata": {},
   "source": [
    "## <font color = \"red\">Required Implementation</font>\n",
    "\n",
    "<b>Hint:</b>\n",
    "- Remember that CSP constraints are typically represented by logical sentences. Also remember from Propositional Logic equivalencies that $(P \\implies Q) \\equiv \\neg P \\lor Q$ <br>\n",
    "\n",
    "So you can convert the implications to logical `or` in Python. For instance, the logical statement of `if professor == \"Tim\"` implies `day != \"Mon\"` is equivalent to: <br> `if not(professor == \"Tim\") or day != \"Mon\":`"
   ]
  },
  {
   "cell_type": "code",
   "execution_count": 4,
   "metadata": {},
   "outputs": [
    {
     "name": "stdout",
     "output_type": "stream",
     "text": [
      "18\n",
      "[{'professor': 'Fred', 'day': 'Thu', 'time': '11:30', 'classroom': 'ILSB233', 'course': 'CMSC478'}, {'professor': 'Fred', 'day': 'Thu', 'time': '11:30', 'classroom': 'ILSB233', 'course': 'CMSC471'}, {'professor': 'Fred', 'day': 'Thu', 'time': '11:30', 'classroom': 'ILSB116A', 'course': 'CMSC478'}, {'professor': 'Fred', 'day': 'Thu', 'time': '11:30', 'classroom': 'ILSB116A', 'course': 'CMSC471'}, {'professor': 'Fred', 'day': 'Mon', 'classroom': 'ILSB233', 'time': '11:30', 'course': 'CMSC478'}, {'professor': 'Fred', 'day': 'Mon', 'classroom': 'ILSB233', 'time': '11:30', 'course': 'CMSC471'}, {'professor': 'Tim', 'day': 'Thu', 'classroom': 'ILSB116A', 'time': '2:30', 'course': 'CMSC473'}, {'professor': 'Tim', 'day': 'Thu', 'classroom': 'ILSB116A', 'time': '2:30', 'course': 'CMSC478'}, {'professor': 'Tim', 'day': 'Thu', 'classroom': 'ILSB116A', 'time': '2:30', 'course': 'CMSC471'}, {'professor': 'Tim', 'day': 'Thu', 'classroom': 'ILSB116A', 'time': '11:30', 'course': 'CMSC473'}, {'professor': 'Tim', 'day': 'Thu', 'classroom': 'ILSB116A', 'time': '11:30', 'course': 'CMSC478'}, {'professor': 'Tim', 'day': 'Thu', 'classroom': 'ILSB116A', 'time': '11:30', 'course': 'CMSC471'}, {'professor': 'Tim', 'day': 'Thu', 'classroom': 'ILSB233', 'time': '2:30', 'course': 'CMSC473'}, {'professor': 'Tim', 'day': 'Thu', 'classroom': 'ILSB233', 'time': '2:30', 'course': 'CMSC478'}, {'professor': 'Tim', 'day': 'Thu', 'classroom': 'ILSB233', 'time': '2:30', 'course': 'CMSC471'}, {'professor': 'Tim', 'day': 'Thu', 'classroom': 'ILSB233', 'time': '11:30', 'course': 'CMSC473'}, {'professor': 'Tim', 'day': 'Thu', 'classroom': 'ILSB233', 'time': '11:30', 'course': 'CMSC478'}, {'professor': 'Tim', 'day': 'Thu', 'classroom': 'ILSB233', 'time': '11:30', 'course': 'CMSC471'}]\n"
     ]
    }
   ],
   "source": [
    "# An introductory/draft program to practice CSP solving using python-constraint for course scheduling\n",
    "\n",
    "# Import constraint\n",
    "from constraint import *\n",
    "\n",
    "# Declare a dictionary to hold the variables and domains of faculty, courses, classrooms, days and times\n",
    "database_dict = {'professor' : ['Tim', \"Fred\"], 'course' : ['CMSC471', \"CMSC478\", \"CMSC473\"],\n",
    "                        'classroom' : [\"ILSB116A\", \"ILSB233\"], 'day' : [\"Mon\", \"Thu\"],\n",
    "                        'time' : [\"11:30\", \"2:30\", \"4:00\"]}\n",
    "\n",
    "# Create a problem\n",
    "problem = Problem()\n",
    "\n",
    "# Add the dict key, value as Variable and their domains to problem\n",
    "for key, value in database_dict.items():\n",
    "    problem.addVariable(key, value)\n",
    "\n",
    "# Functions to implement constraints - preferences and limitations\n",
    "# /---------------------------------------------------------------\n",
    "\n",
    "def day_constraint(professor, day):\n",
    "    ### START CODE HERE ###\n",
    "    # Tim does not teach on Mon\n",
    "    if not(professor == \"Tim\") or day != \"Mon\":\n",
    "    ### END CODE HERE ###\n",
    "        return True\n",
    "    \n",
    "def classroom_constraint(classroom, day):\n",
    "    ### START CODE HERE ###\n",
    "    # ILSB116A is not available on Mon\n",
    "    if not(classroom == \"ILSB116A\") or day != \"Mon\":\n",
    "    ### END CODE HERE ###\n",
    "        return True\n",
    "    \n",
    "def time_constraint(professor, time):\n",
    "    ### START CODE HERE ###\n",
    "    # Tim does not teach at 4:00 and Fred teaches at 11:30 (1 line)\n",
    "    if (not(professor == \"Tim\") or time != \"4:00\") and (not(professor == 'Fred') or time == '11:30'):\n",
    "    ### END CODE HERE ###\n",
    "        return True\n",
    "\n",
    "def course_constraint(professor, course):\n",
    "    ### START CODE HERE ###\n",
    "    # Fred doesn't teach CMSC473\n",
    "    if not(professor == \"Fred\") or course != \"CMSC473\":\n",
    "    ### END CODE HERE ###\n",
    "        return True\n",
    "# /---------------------------------------------------------------\n",
    "\n",
    "# addConstraint time_constraint\n",
    "problem.addConstraint(time_constraint, ['professor', 'time'])\n",
    "\n",
    "### START CODE HERE ###\n",
    "# Add the other three constraints (3 lines)\n",
    "problem.addConstraint(day_constraint, ['professor', 'day'])\n",
    "problem.addConstraint(classroom_constraint, ['classroom', 'day'])\n",
    "problem.addConstraint(course_constraint, ['professor', 'course'])\n",
    "### END CODE HERE ###\n",
    "\n",
    "# Get solutions\n",
    "solutions = problem.getSolutions()\n",
    "print(len(solutions))\n",
    "print(solutions)"
   ]
  },
  {
   "cell_type": "markdown",
   "metadata": {},
   "source": [
    "## Part I Question"
   ]
  },
  {
   "cell_type": "markdown",
   "metadata": {},
   "source": [
    "Answer the following question IN THIS CELL BELOW THE HINT:\n",
    "\n",
    "<b>Question</b>- Look at the CSP solution above. If you properly follow the implementation based on the comments, you should get 18 set of assignments for variables, e.g `{'professor': 'Fred', 'day': 'Thu', 'time': '11:30', 'classroom': 'ILSB233', 'course': 'CMSC478'}`.\n",
    "\n",
    "Now check the solution to see if you find any problems in the solution that may make the solution logically and practically inconsistent. \n",
    "\n",
    "> <b>Hint:</b> For instance, can a professor teach two different courses at two different classrooms at the same day/time? What other issues can you identify in the solution? Explain how you would address those issues. Notice that solving a course scheduling problem is a hard problem and a thorough CSP formulation and solution may potentially be defined as an industry project or maybe even a Master's thesis in academia! Nonetheless, in your answer, briefly explain the strategies that can be taken to find a good solution for this CSP. In natural language (without implementation and symbolic logic), add <b>at least two more constraints</b> to resolve some of the issues in the solution.\n",
    "\n",
    "Problems with the solution provided include that a professor can be required to be teaching two different courses in the same room and time, the same course at different rooms at the same time, or even different courses in different rooms at the same time. I would address these issues by adding constraints so that a professor can only teach one class on the same time & day. I would also add the constraint that two different professors cannot have classes scheduled in the same room at the same time."
   ]
  },
  {
   "cell_type": "markdown",
   "metadata": {},
   "source": [
    "## Part II - Propositional Logic"
   ]
  },
  {
   "cell_type": "markdown",
   "metadata": {},
   "source": [
    "Answer the following questions on Propositional Logic IN THIS CELL. <font color=\"red\">You must use inline Latex format of Markdown for your answers. You can use the same symbols in the questions for your answers.</font>\n",
    "\n",
    "Q1- State whether each of the three following propositional logic sentences is <b>satisfiable</b> (possibly true or false), <b>unsatisfiable</b> (always false F), or <b>valid</b> (always true T):\n",
    "\n",
    "$P \\land F$     Unsatisfiable\n",
    "\n",
    "\n",
    "$(P\\implies Q) \\implies \\neg P$    Satisfiable\n",
    "\n",
    "\n",
    "$(P \\implies Q) \\implies (\\neg P \\lor Q)$ Satisfiable\n",
    "\n",
    "Resolution as the inference rule requires sentences to be in Conjunctive Normal Form (CNF).  \n",
    "\n",
    "Procedure to convert Propositional Logic sentences to CNF:\n",
    "\n",
    "- Replace biconditional $(P \\iff Q)$ with $(P \\Rightarrow Q) \\land (Q \\Rightarrow P)$\n",
    "\n",
    "- Eliminate implication. $(P \\Rightarrow Q) \\equiv \\neg P \\lor Q$\n",
    "\n",
    "- Move $\\neg$ inwards, i.e. apply it using DeMorgan or eliminate double-negation if applies.\n",
    "\n",
    "- Distribute $\\land$ over $\\lor$ and vice-versa.\n",
    "\n",
    "- Flatten nesting. For example: $(P \\land Q) \\land R$ becomes $P\\land Q \\land R$\n",
    "\n",
    "Q2- Convert the following three sentences into CNF.\n",
    "\n",
    "$STUDY \\implies PASS$\n",
    "\n",
    "Answer : $\\neg STUDY \\lor PASS$\n",
    "\n",
    "$\\neg (DEMOCRAT \\lor REPUBLICAN)$\n",
    "\n",
    "Answer : $\\neg DEMOCRAT \\land \\neg REPUBLICAN$\n",
    "\n",
    "$(P \\Rightarrow Q) \\implies (R \\land S)$\n",
    "\n",
    "Answer : $(P \\lor R) \\land (\\neg Q \\lor R) \\land (P \\lor S) \\land (\\neg Q \\lor S)$"
   ]
  },
  {
   "cell_type": "markdown",
   "metadata": {},
   "source": [
    "## Grading"
   ]
  },
  {
   "cell_type": "markdown",
   "metadata": {},
   "source": [
    "For Assignment-3, your notebook will be run and graded with a maximum of 100 points. Make sure that you get the desired outputs, (i.e. getting the CSP solution as instructed) for the cell that you implemented. Also, your notebook should be written with no grammatical and spelling errors and should be nicely-formatted and easy-to-read.\n",
    "\n",
    "The breakdown of the 100 points is as follows:\n",
    "\n",
    "- Part I implementation has 50 points.\n",
    "\n",
    "- Part I question has 10 points.\n",
    "\n",
    "- Part II has 30 points (15 pts each question).\n",
    "\n",
    "The remaining 10 points will be based on your writing and formatting and <font color=\"red\">correct Latex format for logical sentences</font> as instructed in the notebook.  Follow the instructions of each section carefully. Points will be deducted if your submitted notebook doesn't have Latex format for logic or is not easy to read and follow or if it has grammatical and spelling errors. Remember that you should **NOT** change the format of the notebook by deleting the text or instructions!"
   ]
  },
  {
   "cell_type": "markdown",
   "metadata": {},
   "source": [
    "## How to Submit and Due Date"
   ]
  },
  {
   "cell_type": "markdown",
   "metadata": {},
   "source": [
    "Name your notebook ```Lastname-A3.ipynb```.  So, for me it would be ```Vafaei-A3.ipynb```.  Submit the file using the ```Assignment-3``` link on Blackboard.\n",
    "\n",
    "Grading will be based on \n",
    "\n",
    "  * correct behavior of the required functions, correct answer to the questions, and\n",
    "  * readability of the notebook.\n",
    "  \n",
    "<font color=red><b>Due Date: Sunday October 27, 11:59PM.</b></font>"
   ]
  }
 ],
 "metadata": {
  "kernelspec": {
   "display_name": "Python 3",
   "language": "python",
   "name": "python3"
  },
  "language_info": {
   "codemirror_mode": {
    "name": "ipython",
    "version": 3
   },
   "file_extension": ".py",
   "mimetype": "text/x-python",
   "name": "python",
   "nbconvert_exporter": "python",
   "pygments_lexer": "ipython3",
   "version": "3.7.3"
  }
 },
 "nbformat": 4,
 "nbformat_minor": 2
}
