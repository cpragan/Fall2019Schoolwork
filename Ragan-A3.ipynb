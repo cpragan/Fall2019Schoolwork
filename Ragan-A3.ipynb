{
 "cells": [
  {
   "cell_type": "markdown",
   "metadata": {},
   "source": [
    "# CMSC478 Machine Learning\n",
    "\n",
    "# Assignment-3: Ensemble Methods and PCA"
   ]
  },
  {
   "cell_type": "markdown",
   "metadata": {},
   "source": [
    "*Connor Ragan AN72374* "
   ]
  },
  {
   "cell_type": "markdown",
   "metadata": {},
   "source": [
    "## Overview and Learning Objectives"
   ]
  },
  {
   "cell_type": "markdown",
   "metadata": {},
   "source": [
    "You've learnt about Ensemble Methods and how to use weak predictors to create strong predictors by combining them in different ways. You also learned that \"Curse of Dimensionality\" is a common challenge in ML and how PCA can help in dimensionality reduction.\n",
    "\n",
    "In Part I of this assignment, you are going to build and compare three ensemble methods on diabetes dataset. In Part II, you will transform your data to a lower dimensional space using PCA.\n",
    "\n",
    "Pedagogically, this assignment will help you:\n",
    "- better understand Ensemble Methods, as well as Random Forests.\n",
    "\n",
    "- better understand how to perform dimensionality reduction using PCA.\n",
    "\n",
    "- practice plotting ROC curves."
   ]
  },
  {
   "cell_type": "markdown",
   "metadata": {},
   "source": [
    "## Part I - Ensemble Methods"
   ]
  },
  {
   "cell_type": "markdown",
   "metadata": {},
   "source": [
    "You are going to use \"Ensemble\" of classifiers with the followig ensemble methods:\n",
    "\n",
    "- Random Forests\n",
    "\n",
    "- AdaBoost\n",
    "\n",
    "- Gradient Boosting"
   ]
  },
  {
   "cell_type": "markdown",
   "metadata": {},
   "source": [
    "First [download the data](https://www.kaggle.com/uciml/pima-indians-diabetes-database) `diabetes.csv` and store it in the same working directory."
   ]
  },
  {
   "cell_type": "code",
   "execution_count": 7,
   "metadata": {},
   "outputs": [],
   "source": [
    "# Import necessary Python modules\n",
    "import pandas as pd\n",
    "import numpy as np\n",
    "\n",
    "import matplotlib.pyplot as plt\n",
    "%matplotlib inline\n",
    "\n",
    "from sklearn.tree import DecisionTreeClassifier\n",
    "from sklearn.ensemble import RandomForestClassifier\n",
    "from sklearn.ensemble import AdaBoostClassifier\n",
    "from sklearn.ensemble import GradientBoostingClassifier\n",
    "\n",
    "from sklearn.model_selection import train_test_split\n",
    "import sklearn.metrics as metrics\n",
    "from sklearn.model_selection import cross_val_score\n",
    "from sklearn.metrics import classification_report, confusion_matrix\n",
    "\n",
    "from sklearn.decomposition import PCA"
   ]
  },
  {
   "cell_type": "code",
   "execution_count": 8,
   "metadata": {},
   "outputs": [
    {
     "name": "stdout",
     "output_type": "stream",
     "text": [
      "(768, 9)\n"
     ]
    },
    {
     "data": {
      "text/html": [
       "<div>\n",
       "<style scoped>\n",
       "    .dataframe tbody tr th:only-of-type {\n",
       "        vertical-align: middle;\n",
       "    }\n",
       "\n",
       "    .dataframe tbody tr th {\n",
       "        vertical-align: top;\n",
       "    }\n",
       "\n",
       "    .dataframe thead th {\n",
       "        text-align: right;\n",
       "    }\n",
       "</style>\n",
       "<table border=\"1\" class=\"dataframe\">\n",
       "  <thead>\n",
       "    <tr style=\"text-align: right;\">\n",
       "      <th></th>\n",
       "      <th>Pregnancies</th>\n",
       "      <th>Glucose</th>\n",
       "      <th>BloodPressure</th>\n",
       "      <th>SkinThickness</th>\n",
       "      <th>Insulin</th>\n",
       "      <th>BMI</th>\n",
       "      <th>DiabetesPedigreeFunction</th>\n",
       "      <th>Age</th>\n",
       "      <th>Outcome</th>\n",
       "    </tr>\n",
       "  </thead>\n",
       "  <tbody>\n",
       "    <tr>\n",
       "      <th>0</th>\n",
       "      <td>6</td>\n",
       "      <td>148</td>\n",
       "      <td>72</td>\n",
       "      <td>35</td>\n",
       "      <td>0</td>\n",
       "      <td>33.6</td>\n",
       "      <td>0.627</td>\n",
       "      <td>50</td>\n",
       "      <td>1</td>\n",
       "    </tr>\n",
       "    <tr>\n",
       "      <th>1</th>\n",
       "      <td>1</td>\n",
       "      <td>85</td>\n",
       "      <td>66</td>\n",
       "      <td>29</td>\n",
       "      <td>0</td>\n",
       "      <td>26.6</td>\n",
       "      <td>0.351</td>\n",
       "      <td>31</td>\n",
       "      <td>0</td>\n",
       "    </tr>\n",
       "    <tr>\n",
       "      <th>2</th>\n",
       "      <td>8</td>\n",
       "      <td>183</td>\n",
       "      <td>64</td>\n",
       "      <td>0</td>\n",
       "      <td>0</td>\n",
       "      <td>23.3</td>\n",
       "      <td>0.672</td>\n",
       "      <td>32</td>\n",
       "      <td>1</td>\n",
       "    </tr>\n",
       "    <tr>\n",
       "      <th>3</th>\n",
       "      <td>1</td>\n",
       "      <td>89</td>\n",
       "      <td>66</td>\n",
       "      <td>23</td>\n",
       "      <td>94</td>\n",
       "      <td>28.1</td>\n",
       "      <td>0.167</td>\n",
       "      <td>21</td>\n",
       "      <td>0</td>\n",
       "    </tr>\n",
       "    <tr>\n",
       "      <th>4</th>\n",
       "      <td>0</td>\n",
       "      <td>137</td>\n",
       "      <td>40</td>\n",
       "      <td>35</td>\n",
       "      <td>168</td>\n",
       "      <td>43.1</td>\n",
       "      <td>2.288</td>\n",
       "      <td>33</td>\n",
       "      <td>1</td>\n",
       "    </tr>\n",
       "  </tbody>\n",
       "</table>\n",
       "</div>"
      ],
      "text/plain": [
       "   Pregnancies  Glucose  BloodPressure  SkinThickness  Insulin   BMI  \\\n",
       "0            6      148             72             35        0  33.6   \n",
       "1            1       85             66             29        0  26.6   \n",
       "2            8      183             64              0        0  23.3   \n",
       "3            1       89             66             23       94  28.1   \n",
       "4            0      137             40             35      168  43.1   \n",
       "\n",
       "   DiabetesPedigreeFunction  Age  Outcome  \n",
       "0                     0.627   50        1  \n",
       "1                     0.351   31        0  \n",
       "2                     0.672   32        1  \n",
       "3                     0.167   21        0  \n",
       "4                     2.288   33        1  "
      ]
     },
     "execution_count": 8,
     "metadata": {},
     "output_type": "execute_result"
    }
   ],
   "source": [
    "# Load diabetes data with Pandas, it should be in the same working directory.\n",
    "df = pd.read_csv(\"diabetes.csv\")\n",
    "\n",
    "print(df.shape)\n",
    "df.head()"
   ]
  },
  {
   "cell_type": "code",
   "execution_count": 9,
   "metadata": {},
   "outputs": [
    {
     "name": "stdout",
     "output_type": "stream",
     "text": [
      "(768, 8)\n",
      "(768,)\n"
     ]
    }
   ],
   "source": [
    "# Create X, y\n",
    "X = df.drop('Outcome', axis=1)\n",
    "y = df['Outcome']\n",
    "\n",
    "print(X.shape)\n",
    "print(y.shape)"
   ]
  },
  {
   "cell_type": "code",
   "execution_count": 10,
   "metadata": {},
   "outputs": [
    {
     "name": "stdout",
     "output_type": "stream",
     "text": [
      "(514, 8)\n",
      "(514,)\n",
      "(254, 8)\n",
      "(254,)\n"
     ]
    }
   ],
   "source": [
    "# Split the data to train and test\n",
    "X_train, X_test, y_train, y_test = train_test_split(X, y, test_size=0.33, random_state=66)\n",
    "\n",
    "print(X_train.shape)\n",
    "print(y_train.shape)\n",
    "print(X_test.shape)\n",
    "print(y_test.shape)"
   ]
  },
  {
   "cell_type": "markdown",
   "metadata": {},
   "source": [
    "## <font color=\"red\"> Required Coding"
   ]
  },
  {
   "cell_type": "code",
   "execution_count": 11,
   "metadata": {},
   "outputs": [],
   "source": [
    "# Create a random forest classifier with 100 estimators and max_leaf_nodes=16 and n_jobs=-1\n",
    "### START CODING HERE ###\n",
    "rf_clf = RandomForestClassifier(n_estimators=100,max_leaf_nodes=16,n_jobs=-1)\n",
    "### END CODING HERE ###"
   ]
  },
  {
   "cell_type": "code",
   "execution_count": 12,
   "metadata": {},
   "outputs": [
    {
     "name": "stdout",
     "output_type": "stream",
     "text": [
      "Mean AUC Score - Random Forest:  0.8361941786283891\n"
     ]
    }
   ],
   "source": [
    "# Perform a 10-fold cross validation with 'roc_auc' as scoring and print the cv_score mean\n",
    "### START CODING HERE ###\n",
    "rf_cv_score = cross_val_score(rf_clf, X_train, y_train, cv=10, scoring=\"roc_auc\")\n",
    "### END CODING HERE ###\n",
    "print(\"Mean AUC Score - Random Forest: \", rf_cv_score.mean())"
   ]
  },
  {
   "cell_type": "markdown",
   "metadata": {},
   "source": [
    "> Now, plot the impact of varying `n_estimators` on cv scores (mean auc). This may take a few minutes to generate the plot."
   ]
  },
  {
   "cell_type": "markdown",
   "metadata": {},
   "source": [
    "## <font color=\"red\"> Required Coding"
   ]
  },
  {
   "cell_type": "code",
   "execution_count": 7,
   "metadata": {},
   "outputs": [
    {
     "data": {
      "text/plain": [
       "[<matplotlib.lines.Line2D at 0x19c1572dac8>]"
      ]
     },
     "execution_count": 7,
     "metadata": {},
     "output_type": "execute_result"
    },
    {
     "data": {
      "image/png": "[encoded data removed]",
      "text/plain": [
       "<Figure size 432x288 with 1 Axes>"
      ]
     },
     "metadata": {
      "needs_background": "light"
     },
     "output_type": "display_data"
    }
   ],
   "source": [
    "# Create a range of 1 to 100 and an empty list for n_estimators and mean_auc\n",
    "N_Estimators = range(1, 101)\n",
    "Mean_AUC = []\n",
    "\n",
    "### START CODING HERE ###\n",
    "# Write a for loop that does the following steps:\n",
    "# iterate over n_estimators in N_Estimators\n",
    "for i in N_Estimators:\n",
    "    # create rf_clf in each iteration passing n_estimators and other params\n",
    "    rf_clf = RandomForestClassifier(n_estimators=i,max_leaf_nodes=16,n_jobs=-1)\n",
    "    # do 10-fold cross validation on X and y with scoring='roc_auc'\n",
    "    rf_cv_score = cross_val_score(rf_clf, X_train, y_train, cv=10, scoring=\"roc_auc\")\n",
    "    # compute the mean of the rf_cv_score and append it to Mean_AUC\n",
    "    Mean_AUC.append(rf_cv_score.mean())\n",
    "### END CODING HERE ###\n",
    "\n",
    "plt.title('Impact of n_estimators on Mean_AUC')\n",
    "plt.xlabel('n_estimators', fontsize=14)\n",
    "plt.ylabel('mean_AUC', fontsize=14)\n",
    "plt.plot(N_Estimators, Mean_AUC)"
   ]
  },
  {
   "cell_type": "markdown",
   "metadata": {},
   "source": [
    "> You can now use `feature_importances_` to see the importance of each feature in the random forest classifier. As mentioned in the lecture, it is measured based on how much the tree nodes that use that feature reduce impurity on average."
   ]
  },
  {
   "cell_type": "code",
   "execution_count": 8,
   "metadata": {},
   "outputs": [
    {
     "name": "stdout",
     "output_type": "stream",
     "text": [
      "Pregnancies 0.07022510787521422\n",
      "Glucose 0.3820938708007124\n",
      "BloodPressure 0.0461194314581116\n",
      "SkinThickness 0.054207602521224946\n",
      "Insulin 0.06390568275226258\n",
      "BMI 0.15741758715210463\n",
      "DiabetesPedigreeFunction 0.08316448858075252\n",
      "Age 0.14286622885961717\n"
     ]
    }
   ],
   "source": [
    "# Fit the rf_clf on the training set\n",
    "rf_clf.fit(X_train,y_train)\n",
    "\n",
    "# Get feature_importances for all features\n",
    "for name, score in zip(df, rf_clf.feature_importances_):\n",
    "    print(name, score)"
   ]
  },
  {
   "cell_type": "markdown",
   "metadata": {},
   "source": [
    "> Now, plot the ROC curve. Notice how [class probabilities](https://scikit-learn.org/stable/modules/generated/sklearn.ensemble.RandomForestClassifier.html#sklearn.ensemble.RandomForestClassifier.predict_proba), tpr (true positive rate) and fpr (flase positive rate) should be computed for plotting ROC. Notice that Mean AUC Score might be slightly different from the AUC_RF computed below due to averaging in cv."
   ]
  },
  {
   "cell_type": "code",
   "execution_count": 9,
   "metadata": {},
   "outputs": [],
   "source": [
    "rf_probs = rf_clf.predict_proba(X_test)\n",
    "rf_preds = rf_probs[:,1]\n",
    "rf_fpr, rf_tpr, rf_threshold = metrics.roc_curve(y_test, rf_preds)\n",
    "rf_roc_auc = metrics.auc(rf_fpr, rf_tpr)"
   ]
  },
  {
   "cell_type": "code",
   "execution_count": 10,
   "metadata": {},
   "outputs": [
    {
     "data": {
      "text/plain": [
       "Text(0.5, 0, 'False Positive Rate')"
      ]
     },
     "execution_count": 10,
     "metadata": {},
     "output_type": "execute_result"
    },
    {
     "data": {
      "image/png": "[encoded data removed]",
      "text/plain": [
       "<Figure size 432x288 with 1 Axes>"
      ]
     },
     "metadata": {
      "needs_background": "light"
     },
     "output_type": "display_data"
    }
   ],
   "source": [
    "plt.title('ROC')\n",
    "plt.plot(rf_fpr, rf_tpr, 'b', label = 'AUC_RF = %0.2f' % rf_roc_auc)\n",
    "plt.legend(loc = 'lower right')\n",
    "plt.plot([0, 1], [0, 1],'r--')\n",
    "plt.xlim([0, 1])\n",
    "plt.ylim([0, 1])\n",
    "plt.ylabel('True Positive Rate')\n",
    "plt.xlabel('False Positive Rate')"
   ]
  },
  {
   "cell_type": "markdown",
   "metadata": {},
   "source": [
    "> Now do the exact same steps with AdaBoost."
   ]
  },
  {
   "cell_type": "markdown",
   "metadata": {},
   "source": [
    "## <font color=\"red\"> Required Coding"
   ]
  },
  {
   "cell_type": "code",
   "execution_count": 11,
   "metadata": {},
   "outputs": [
    {
     "name": "stdout",
     "output_type": "stream",
     "text": [
      "Mean AUC Score - AdaBoost:  0.827110745614035\n"
     ]
    }
   ],
   "source": [
    "# Create AdaBoost ensemble of DecisionTreeClassifier(max_depth=2), n_estimators=5, algorithm=\"SAMME.R\", learning_rate=0.25\n",
    "### START CODING HERE ###\n",
    "ada_clf = AdaBoostClassifier(DecisionTreeClassifier(max_depth=2), n_estimators=5, algorithm=\"SAMME.R\", learning_rate=0.25)\n",
    "\n",
    "# Fit the ada_clf on the training set\n",
    "ada_clf.fit(X_train, y_train)\n",
    "\n",
    "# Perform a 10-fold cross validation with 'roc_auc' as scoring and print the cv_score mean\n",
    "ada_cv_score = cross_val_score(ada_clf, X_train, y_train, cv=10, scoring=\"roc_auc\")\n",
    "### END CODING HERE ###\n",
    "print(\"Mean AUC Score - AdaBoost: \", ada_cv_score.mean())"
   ]
  },
  {
   "cell_type": "markdown",
   "metadata": {},
   "source": [
    ">And do the same with Gradient Boosting."
   ]
  },
  {
   "cell_type": "code",
   "execution_count": 12,
   "metadata": {},
   "outputs": [
    {
     "name": "stdout",
     "output_type": "stream",
     "text": [
      "Mean AUC Score - Gradinet Boosting:  0.8109051036682615\n"
     ]
    }
   ],
   "source": [
    "# Create GradientBoostingClassifier ensemble of max_depth=2, n_estimators=5, learning_rate=0.25\n",
    "### START CODING HERE ###\n",
    "gb_clf = GradientBoostingClassifier(max_depth=2, n_estimators=5, learning_rate=0.25)\n",
    "\n",
    "# Fit the gb_clf on the training set\n",
    "gb_clf.fit(X_train, y_train)\n",
    "\n",
    "# Perform a 10-fold cross validation with 'roc_auc' as scoring and print the cv_score mean\n",
    "gb_cv_score = cross_val_score(gb_clf, X_train, y_train, cv=10, scoring=\"roc_auc\")\n",
    "### END CODING HERE ###\n",
    "print(\"Mean AUC Score - Gradinet Boosting: \", gb_cv_score.mean())"
   ]
  },
  {
   "cell_type": "markdown",
   "metadata": {},
   "source": [
    ">Now plot the ROC for all three ensembles in one plot, similar to the plot for random forest. AUC scores for each ensemble should be shown on the lower right. <b>Hint:</b> You should compute the probs, preds, fpr, tpr, threshold, and roc_auc for each ensmeble separately. Use different variable names for each ensemble to store them."
   ]
  },
  {
   "cell_type": "markdown",
   "metadata": {},
   "source": [
    "## <font color=\"red\"> Required Coding"
   ]
  },
  {
   "cell_type": "code",
   "execution_count": 13,
   "metadata": {},
   "outputs": [
    {
     "data": {
      "text/plain": [
       "Text(0.5, 0, 'False Positive Rate')"
      ]
     },
     "execution_count": 13,
     "metadata": {},
     "output_type": "execute_result"
    },
    {
     "data": {
      "image/png": "[encoded data removed]",
      "text/plain": [
       "<Figure size 432x288 with 1 Axes>"
      ]
     },
     "metadata": {
      "needs_background": "light"
     },
     "output_type": "display_data"
    }
   ],
   "source": [
    "# Plot ROC for all three ensemble methods in one plot with AUC scores shown on the 'lower right' of the plot.\n",
    "# Write as many number of lines as needed.\n",
    "### START CODING HERE ###\n",
    "ada_probs = ada_clf.predict_proba(X_test)\n",
    "ada_preds = ada_probs[:,1]\n",
    "ada_fpr, ada_tpr, ada_threshold = metrics.roc_curve(y_test, ada_preds)\n",
    "ada_roc_auc = metrics.auc(ada_fpr, ada_tpr)\n",
    "\n",
    "gb_probs = gb_clf.predict_proba(X_test)\n",
    "gb_preds = gb_probs[:,1]\n",
    "gb_fpr, gb_tpr, gb_threshold = metrics.roc_curve(y_test, gb_preds)\n",
    "gb_roc_auc = metrics.auc(gb_fpr, gb_tpr)\n",
    "\n",
    "plt.title('ROC')\n",
    "plt.plot(rf_fpr, rf_tpr, 'b', label = 'AUC_RF = %0.2f' % rf_roc_auc)\n",
    "plt.plot(ada_fpr, ada_tpr, 'g', label = 'AUC_ADA = %0.2f' % ada_roc_auc)\n",
    "plt.plot(gb_fpr, gb_tpr, 'r', label = 'AUC_GB = %0.2f' % gb_roc_auc)\n",
    "plt.legend(loc = 'lower right')\n",
    "plt.plot([0, 1], [0, 1],'r--')\n",
    "plt.xlim([0, 1])\n",
    "plt.ylim([0, 1])\n",
    "plt.ylabel('True Positive Rate')\n",
    "plt.xlabel('False Positive Rate')\n",
    "### END CODING HERE ###"
   ]
  },
  {
   "cell_type": "markdown",
   "metadata": {},
   "source": [
    "## Part I - Questions"
   ]
  },
  {
   "cell_type": "markdown",
   "metadata": {},
   "source": [
    "ANSWER THE FOLLOWING QUESTIONS HERE:\n",
    "\n",
    "Q1 - Given the plot above (3 ROC curves), which ensemble method has the best performance for this dataset? Which one is the 2nd best?\n",
    "\n",
    "The rf_clf classifier is the best ensemble method for this dataset because it has the highest auc. 2nd best would be the gradient boosting classifier, but it is very close to AdaBoost in auc.\n",
    "\n",
    "Q2 - Given the plot of the impact of varying `n_estimators` on cv scores (mean auc), what would be an appropriate number (or range) for `n_estimators` in random forest classifier for this problem?\n",
    "\n",
    "No fewer than 20 estimators should be used, based on the plot above. Fewer than 20 will not maximize the auc."
   ]
  },
  {
   "cell_type": "markdown",
   "metadata": {},
   "source": [
    "## Part II - PCA"
   ]
  },
  {
   "cell_type": "markdown",
   "metadata": {},
   "source": [
    "In this part, you are going to reduce the dimensionality of the data by PCA."
   ]
  },
  {
   "cell_type": "markdown",
   "metadata": {},
   "source": [
    "## <font color=\"red\"> Required Coding"
   ]
  },
  {
   "cell_type": "code",
   "execution_count": 14,
   "metadata": {},
   "outputs": [
    {
     "name": "stdout",
     "output_type": "stream",
     "text": [
      "(768, 4)\n"
     ]
    }
   ],
   "source": [
    "# Create a pca with 4 n_components, and fit_transform(X) and store the transformed data in X4D\n",
    "### START CODING HERE ###\n",
    "pca = PCA(n_components = 4)\n",
    "X4D = pca.fit_transform(X)\n",
    "### END CODING HERE ###\n",
    "print(X4D.shape)"
   ]
  },
  {
   "cell_type": "code",
   "execution_count": 15,
   "metadata": {},
   "outputs": [
    {
     "data": {
      "text/plain": [
       "array([-75.71465491, -35.95078264,  -7.26078895,  15.66926931])"
      ]
     },
     "execution_count": 15,
     "metadata": {},
     "output_type": "execute_result"
    }
   ],
   "source": [
    "X4D[0]"
   ]
  },
  {
   "cell_type": "code",
   "execution_count": 16,
   "metadata": {},
   "outputs": [
    {
     "data": {
      "text/plain": [
       "array([-2.02176587e-03,  9.78115765e-02,  1.60930503e-02,  6.07566861e-02,\n",
       "        9.93110844e-01,  1.40108085e-02,  5.37167919e-04, -3.56474430e-03])"
      ]
     },
     "execution_count": 16,
     "metadata": {},
     "output_type": "execute_result"
    }
   ],
   "source": [
    "# Check the pca components\n",
    "pca.components_.T[:,0]"
   ]
  },
  {
   "cell_type": "code",
   "execution_count": 17,
   "metadata": {},
   "outputs": [
    {
     "name": "stdout",
     "output_type": "stream",
     "text": [
      "(514, 4)\n",
      "(514,)\n",
      "(254, 4)\n",
      "(254,)\n"
     ]
    }
   ],
   "source": [
    "# Split the X4D to train and test\n",
    "X4D_train, X4D_test, y_train, y_test = train_test_split(X4D, y, test_size=0.33, random_state=66)\n",
    "\n",
    "print(X4D_train.shape)\n",
    "print(y_train.shape)\n",
    "print(X4D_test.shape)\n",
    "print(y_test.shape)"
   ]
  },
  {
   "cell_type": "markdown",
   "metadata": {},
   "source": [
    ">As discussed in the lecture, once you get your X4D, you can see the `explained_variance_ratio_` which shows the ratio of variance that lies in each Principal Component (PC)."
   ]
  },
  {
   "cell_type": "code",
   "execution_count": 18,
   "metadata": {},
   "outputs": [
    {
     "data": {
      "text/plain": [
       "array([0.88854663, 0.06159078, 0.02579012, 0.01308614])"
      ]
     },
     "execution_count": 18,
     "metadata": {},
     "output_type": "execute_result"
    }
   ],
   "source": [
    "pca.explained_variance_ratio_"
   ]
  },
  {
   "cell_type": "markdown",
   "metadata": {},
   "source": [
    ">You can also see the coefficients of each Principal Component (PC) corresponding to each feature as each PC is a linear combination of features."
   ]
  },
  {
   "cell_type": "code",
   "execution_count": 19,
   "metadata": {},
   "outputs": [
    {
     "data": {
      "text/html": [
       "<div>\n",
       "<style scoped>\n",
       "    .dataframe tbody tr th:only-of-type {\n",
       "        vertical-align: middle;\n",
       "    }\n",
       "\n",
       "    .dataframe tbody tr th {\n",
       "        vertical-align: top;\n",
       "    }\n",
       "\n",
       "    .dataframe thead th {\n",
       "        text-align: right;\n",
       "    }\n",
       "</style>\n",
       "<table border=\"1\" class=\"dataframe\">\n",
       "  <thead>\n",
       "    <tr style=\"text-align: right;\">\n",
       "      <th></th>\n",
       "      <th>Pregnancies</th>\n",
       "      <th>Glucose</th>\n",
       "      <th>BloodPressure</th>\n",
       "      <th>SkinThickness</th>\n",
       "      <th>Insulin</th>\n",
       "      <th>BMI</th>\n",
       "      <th>DiabetesPedigreeFunction</th>\n",
       "      <th>Age</th>\n",
       "    </tr>\n",
       "  </thead>\n",
       "  <tbody>\n",
       "    <tr>\n",
       "      <th>PC-1</th>\n",
       "      <td>-0.002022</td>\n",
       "      <td>0.097812</td>\n",
       "      <td>0.016093</td>\n",
       "      <td>0.060757</td>\n",
       "      <td>0.993111</td>\n",
       "      <td>0.014011</td>\n",
       "      <td>0.000537</td>\n",
       "      <td>-0.003565</td>\n",
       "    </tr>\n",
       "    <tr>\n",
       "      <th>PC-2</th>\n",
       "      <td>-0.022649</td>\n",
       "      <td>-0.972210</td>\n",
       "      <td>-0.141909</td>\n",
       "      <td>0.057861</td>\n",
       "      <td>0.094627</td>\n",
       "      <td>-0.046973</td>\n",
       "      <td>-0.000817</td>\n",
       "      <td>-0.140168</td>\n",
       "    </tr>\n",
       "    <tr>\n",
       "      <th>PC-3</th>\n",
       "      <td>-0.022465</td>\n",
       "      <td>0.143429</td>\n",
       "      <td>-0.922467</td>\n",
       "      <td>-0.307013</td>\n",
       "      <td>0.020977</td>\n",
       "      <td>-0.132445</td>\n",
       "      <td>-0.000640</td>\n",
       "      <td>-0.125454</td>\n",
       "    </tr>\n",
       "    <tr>\n",
       "      <th>PC-4</th>\n",
       "      <td>-0.049046</td>\n",
       "      <td>0.119830</td>\n",
       "      <td>-0.262743</td>\n",
       "      <td>0.884369</td>\n",
       "      <td>-0.065550</td>\n",
       "      <td>0.192802</td>\n",
       "      <td>0.002699</td>\n",
       "      <td>-0.301024</td>\n",
       "    </tr>\n",
       "  </tbody>\n",
       "</table>\n",
       "</div>"
      ],
      "text/plain": [
       "      Pregnancies   Glucose  BloodPressure  SkinThickness   Insulin       BMI  \\\n",
       "PC-1    -0.002022  0.097812       0.016093       0.060757  0.993111  0.014011   \n",
       "PC-2    -0.022649 -0.972210      -0.141909       0.057861  0.094627 -0.046973   \n",
       "PC-3    -0.022465  0.143429      -0.922467      -0.307013  0.020977 -0.132445   \n",
       "PC-4    -0.049046  0.119830      -0.262743       0.884369 -0.065550  0.192802   \n",
       "\n",
       "      DiabetesPedigreeFunction       Age  \n",
       "PC-1                  0.000537 -0.003565  \n",
       "PC-2                 -0.000817 -0.140168  \n",
       "PC-3                 -0.000640 -0.125454  \n",
       "PC-4                  0.002699 -0.301024  "
      ]
     },
     "execution_count": 19,
     "metadata": {},
     "output_type": "execute_result"
    }
   ],
   "source": [
    "pd.DataFrame(pca.components_,columns=X.columns,index = ['PC-1','PC-2', 'PC-3', 'PC-4'])"
   ]
  },
  {
   "cell_type": "markdown",
   "metadata": {},
   "source": [
    "## Part II - Questions"
   ]
  },
  {
   "cell_type": "markdown",
   "metadata": {},
   "source": [
    "ANSWER THE FOLLOWING QUESTIONS HERE:\n",
    "\n",
    "Q1- Specify for each PC, which feature has the highest correlation with that PC? You should name the feature that has the highest coefficient in the dataframe above.\n",
    "\n",
    "Highest correlation:\n",
    "PC-1 - Insulin\n",
    "PC-2 - Glucose\n",
    "PC-3 - Blood Pressure\n",
    "PC-4 - Skin Thickness\n",
    "\n",
    "Q2 - Which of the 8 features has the highest importance in random forest `feature_importances_` which also has a high correlation with one of the 4 PCs returned by PCA? Can this be an indication of consistency between PCA results and `feature_importances_` results?\n",
    "\n",
    "Glucose is the highest importance feature, and is also the highest correlation of PC-2. Since PCA selects high variance features, the presence of Glucose does not necessarily indicate consistency between PCA and feature importance.\n",
    "\n",
    "Q3 - Compare the Mean AUC (by cv) of random forest classifier using only 1 principal component, versus 2, 3, and 4 prinicipal compenents. Use the cell below to write your code to answer this question. \n",
    "\n",
    "Results:\n",
    "Mean AUC Score - Random Forest 1PC:  0.7127392344497607\n",
    "Mean AUC Score - Random Forest 2PC:  0.8062848883572566\n",
    "Mean AUC Score - Random Forest 3PC:  0.8020534290271133\n",
    "Mean AUC Score - Random Forest 4PC:  0.8066761363636363\n",
    "\n",
    "It appears that reducing the dimensionality to only one principle component has an adverse affect on auc, but 2-4 principle components had a higher auc with little variance in between them.\n"
   ]
  },
  {
   "cell_type": "markdown",
   "metadata": {},
   "source": [
    "## <font color=\"red\"> Required Coding"
   ]
  },
  {
   "cell_type": "code",
   "execution_count": 20,
   "metadata": {},
   "outputs": [
    {
     "name": "stdout",
     "output_type": "stream",
     "text": [
      "Mean AUC Score - Random Forest 1PC:  0.7180771531100478\n",
      "Mean AUC Score - Random Forest 2PC:  0.802315091706539\n",
      "Mean AUC Score - Random Forest 3PC:  0.8007725279106858\n",
      "Mean AUC Score - Random Forest 4PC:  0.8029605263157894\n"
     ]
    }
   ],
   "source": [
    "# Write any code necessary here to answer Part II Q3 on comparing different number of PCs.\n",
    "pc1 = PCA(n_components = 1)\n",
    "pc2 = PCA(n_components = 2)\n",
    "pc3 = PCA(n_components = 3)\n",
    "pc4 = PCA(n_components = 4)\n",
    "\n",
    "X1D = pc1.fit_transform(X)\n",
    "X2D = pc2.fit_transform(X)\n",
    "X3D = pc3.fit_transform(X)\n",
    "X4D = pc4.fit_transform(X)\n",
    "\n",
    "rf_clf = RandomForestClassifier(n_estimators=100,max_leaf_nodes=16,n_jobs=-1)\n",
    "\n",
    "X1D_train, X1D_test, y_train, y_test = train_test_split(X1D, y, test_size=0.33, random_state=66)\n",
    "rf_cv_score = cross_val_score(rf_clf, X1D_train, y_train, cv=10, scoring=\"roc_auc\")\n",
    "print(\"Mean AUC Score - Random Forest 1PC: \", rf_cv_score.mean())\n",
    "\n",
    "X2D_train, X2D_test, y_train, y_test = train_test_split(X2D, y, test_size=0.33, random_state=66)\n",
    "rf_cv_score = cross_val_score(rf_clf, X2D_train, y_train, cv=10, scoring=\"roc_auc\")\n",
    "print(\"Mean AUC Score - Random Forest 2PC: \", rf_cv_score.mean())\n",
    "\n",
    "X3D_train, X3D_test, y_train, y_test = train_test_split(X3D, y, test_size=0.33, random_state=66)\n",
    "rf_cv_score = cross_val_score(rf_clf, X3D_train, y_train, cv=10, scoring=\"roc_auc\")\n",
    "print(\"Mean AUC Score - Random Forest 3PC: \", rf_cv_score.mean())\n",
    "\n",
    "X4D_train, X4D_test, y_train, y_test = train_test_split(X4D, y, test_size=0.33, random_state=66)\n",
    "rf_cv_score = cross_val_score(rf_clf, X4D_train, y_train, cv=10, scoring=\"roc_auc\")\n",
    "print(\"Mean AUC Score - Random Forest 4PC: \", rf_cv_score.mean())\n"
   ]
  },
  {
   "cell_type": "markdown",
   "metadata": {},
   "source": [
    "## Grading\n",
    "\n",
    "For Assignment 3, your notebook will be run and graded with a maximum of 100 points. Make sure that you get the correct outputs for all cells that you implement. Also, your notebook should be written with no grammatical and spelling errors and should be nicely-formatted and easy-to-read.\n",
    "\n",
    "The breakdown of the 100 points is as follows:\n",
    "\n",
    "Part I implementaion has 65 points:\n",
    "- 30 points: ensemble methods - each ensemble method (and cv) implementation has 10 points.\n",
    "- 20 points: correct plot of the impact of varying `n_estimators` on cv scores (mean auc).\n",
    "- 15 points: correct plot of 3 ROC for ensemble methods in one plot.\n",
    "\n",
    "Part I questions have 10 points (5 points each).\n",
    "\n",
    "Part II PCA implementation has 10 points, and Part II questions have 15 points (5 points each).\n",
    "\n",
    "Follow the instructions of each section carefully. Up to 10 points may be deducted if your submitted notebook is not easy to read and follow or if it has grammatical and spelling errors."
   ]
  },
  {
   "cell_type": "markdown",
   "metadata": {},
   "source": [
    "## How to Submit and Due Date"
   ]
  },
  {
   "cell_type": "markdown",
   "metadata": {},
   "source": [
    "Name your notebook ```Lastname-A3.ipynb```.  So, for me it would be ```Vafaei-A3.ipynb```.  Submit the file using the ```Assignment-3``` link on Blackboard.\n",
    "\n",
    "Grading will be based on \n",
    "\n",
    "  * correct implementation, correct answer to the questions, and\n",
    "  * readability of the notebook.\n",
    "  \n",
    "<font color=red><b>Due Date: Friday Nov 15th 11:59PM.</b></font>"
   ]
  }
 ],
 "metadata": {
  "kernelspec": {
   "display_name": "Python 3",
   "language": "python",
   "name": "python3"
  },
  "language_info": {
   "codemirror_mode": {
    "name": "ipython",
    "version": 3
   },
   "file_extension": ".py",
   "mimetype": "text/x-python",
   "name": "python",
   "nbconvert_exporter": "python",
   "pygments_lexer": "ipython3",
   "version": "3.7.3"
  }
 },
 "nbformat": 4,
 "nbformat_minor": 2
}
