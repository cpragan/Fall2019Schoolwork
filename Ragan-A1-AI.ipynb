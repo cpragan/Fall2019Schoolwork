{
 "cells": [
  {
   "cell_type": "markdown",
   "metadata": {},
   "source": [
    "# CMSC471 - Assignment 1: Uninformed Search"
   ]
  },
  {
   "cell_type": "markdown",
   "metadata": {},
   "source": [
    "*Connor Ragan AN72374* "
   ]
  },
  {
   "cell_type": "markdown",
   "metadata": {},
   "source": [
    "## Overview and Learning Objectives"
   ]
  },
  {
   "cell_type": "markdown",
   "metadata": {},
   "source": [
    "Uninformed Search (aka blind search) refers to the search strategies that do not use additional information about states and goal of the search - nothing beyond the provided problem definition. The first algorithms that we studied in Chapter 3 of the Russel & Norvig textbook were Breadth First Search (BFS) and Depth First Search (DFS) which both fall into the category of Uniformed Search.  In the first part of this assignment, you will implement both BFS and DFS algorithms in Python and then test them on a simple graph and grid.\n",
    "\n",
    "We also studied how we can modify DFS to combine the advantages of BFS (completeness and conditional optimality) with the main advantage of DFS --space complexity of $O(bm)$ where $b$ is the branching factor and $m$ is the maximum depth of the search space. Limited Depth Search and Iterative Deepening DFS were two algorithms that we studied in that section and you are going to implement them in Part II of this assignment.\n",
    "\n",
    "Pedagogically, this assignment will help you:\n",
    "- better understand how these algorithms work in pratice. \n",
    "- brush up your Python skills - and possibly learn a couple of new \"Pythonic\" tricks!\n",
    "- pratice reading documentation. This is a very important skill in AI/ML/Data Science collaborative environments and teams.\n",
    "\n",
    "So, let's get started!"
   ]
  },
  {
   "cell_type": "markdown",
   "metadata": {},
   "source": [
    "# Part I - Breadth First Search (BFS) and Depth First Search (DFS)"
   ]
  },
  {
   "cell_type": "markdown",
   "metadata": {},
   "source": [
    "## Required Code"
   ]
  },
  {
   "cell_type": "markdown",
   "metadata": {},
   "source": [
    "In <b>Part I</b> of this Jupyter Notebook, you must implement the following functions:\n",
    "\n",
    "  * `breadthFirstSearch(startState, goalState, successorsf)` \n",
    "  * `depthFirstSearch(startState, goalState, successorsf)`\n",
    "  \n",
    "Each receives as arguments the starting state, the goal state, and a successors function.  `breadthFirstSearch` returns the breadth-first solution path as a list of states starting with the `startState` and ending with the `goalState`.  `depthFirstSearch` returns the depth-first solution path.\n",
    "\n",
    "The major difference between BFS and DFS is the order they visit/expand and goal-test the nodes. They use a different mechanism for storing the nodes in memory. As discussed in the lectures, sections 3.3.1, 3.4.1 and Figure 3.11 of the textbook, BFS uses a FIFO strategy with a queue data structure and DFS uses a LIFO strategy with a stack data structure to pop the unexpanded nodes. Both FIFO and LIFO can be easily implemented in Python with a similar \"list\" data structure.\n",
    "\n",
    "Once you implemented the required fucntions, demonstrate each one running with a simple graph as shown in the following example, and with the grid example.  Test your code on other graphs, which <font color=\"green\">MAY CONTAIN CYCLES.  <b>Grading will be based on the accuracy of your outputs from both the given search problem examples as well as tests that will be different from the graph and grid example shown here.</b></font>"
   ]
  },
  {
   "cell_type": "markdown",
   "metadata": {},
   "source": [
    "To help you get started, you are given below the wrapper function definitions `breadthFirstSearch` and `depthFirstSearch` for BFS and DFS. They both use a general `uninformedSearch` function which you will implement in the following cells."
   ]
  },
  {
   "cell_type": "code",
   "execution_count": 4,
   "metadata": {},
   "outputs": [],
   "source": [
    "def breadthFirstSearch(startState, goalState, successorsf):\n",
    "    \"\"\"\n",
    "    Breadth first search function returns a path from the starting state to the goal state\n",
    "    using the Breadth First Search (BFS) algorithm. It calls the helper function 'uninformedSearch'.\n",
    "    \"\"\"\n",
    "    return uninformedSearch(startState, goalState, successorsf, True)"
   ]
  },
  {
   "cell_type": "code",
   "execution_count": 5,
   "metadata": {},
   "outputs": [],
   "source": [
    "def depthFirstSearch(startState, goalState, successorsf):\n",
    "    \"\"\"\n",
    "    Depth first search function returns a path from the starting state to the goal state\n",
    "    using the Depth First Search (DFS) algorithm. It calls the helper function 'uninformedSearch'.\n",
    "    \"\"\"\n",
    "    return uninformedSearch(startState, goalState, successorsf, False)"
   ]
  },
  {
   "cell_type": "markdown",
   "metadata": {},
   "source": [
    "### Uninformed Search <font color = red> Required Implementation!"
   ]
  },
  {
   "cell_type": "markdown",
   "metadata": {},
   "source": [
    "Now, you implement the `uninformedSearch` function. Enter your codes in the blocks that start with `### START CODE HERE ###`.\n",
    "\n",
    "In those lines, you should replace <font color=green><b>None</b></font> with your code wherever needed to make function properly.\n",
    "\n",
    "<b>Hints:</b>\n",
    "\n",
    "- A Pythonic way to check if a list is empty is that its name returns `False` if it's empty, and `True` if it's not empty, and this property can be used in conditional statements like `if` or loop conditions in `while`\n",
    "- To check if an element is in a given list, you can use `in`, like this: `if element in list:`\n",
    "- `list.pop()` function is used to pop the last element of a list.\n",
    "- `list.insert(index, element)` is used to insert an element at a specified position of a list, like this: `list.insert(0, element)` which inserts element in position `0`\n",
    "- To concatenate a list to the front or end of a given list we can use `+` operator, e.g.: `list1 + list2` adds `list1` to the front of `list2`, and `list2 + list1`, adds `list1` to the end of `list2`.\n"
   ]
  },
  {
   "cell_type": "code",
   "execution_count": 58,
   "metadata": {},
   "outputs": [],
   "source": [
    "def uninformedSearch(startState, goalState, successorsf, breadthFirst):\n",
    "    \"\"\"\n",
    "    Search helper function returns a path from the starting state to the goal state\n",
    "    using either Breadth First Search (BFS) or Depth First Search (DFS).\n",
    "\n",
    "    Args:\n",
    "        startState:     The starting state\n",
    "        goalState:      The goal state\n",
    "        successorsf:    The function that returns the children of a state\n",
    "        breadthFirst:   Boolean. True for BFS and False for DFS\n",
    "    Returns:\n",
    "        Returns the solution path from start state to goal state as a list. If none is\n",
    "        found, then returns the string \"Goal Not Found!\"\n",
    "    \"\"\"\n",
    "    # Create the empty expanded dictionary\n",
    "    expanded = {}\n",
    "    # Create the unexpanded list and insert the starting state which has no parents.\n",
    "    # No change needed here. Do not replace None here! It represents the root's parent.\n",
    "    unExpanded = [(startState, None)] \n",
    "\n",
    "    ### START CODE HERE ###\n",
    "    # If the startState is the goalState\n",
    "    if startState == goalState:\n",
    "        # Return the startState in [] to be consistent with the desired output as list\n",
    "        return [startState]\n",
    "\n",
    "    # While the unExpanded list is not empty - if a list is not empty it returns True!\n",
    "    while unExpanded:\n",
    "        # Pop the last state in the unExpanded list\n",
    "        state, parent = unExpanded.pop()\n",
    "        # Assign the parent to the state in the expanded dictionary\n",
    "        expanded[state] = parent    \n",
    "    ### END CODE HERE ###\n",
    "\n",
    "        # Get the children of the state; use succesorsf function. It's implemented below this cell.\n",
    "        children = successorsf(state)\n",
    "        # Remove from children the states that are already in expanded or unExpanded\n",
    "        children = [child for child in children if child not in expanded and child not in [s for (s, _) in unExpanded]]\n",
    "\n",
    "        ### START CODE HERE ###\n",
    "        # If we have reached the goal state, i.e. if the goalState is in children\n",
    "        if goalState in children:\n",
    "            # Create the solution path with the state as the parent of the goalState\n",
    "            solutionPath = [state, goalState]\n",
    "\n",
    "            # While the parent exists, i.e. parent is True\n",
    "            while parent:\n",
    "                # Insert the parent into the solutionPath at position index 0. Use .insert() method\n",
    "                solutionPath.insert(0, parent)\n",
    "                # Set the next parent\n",
    "                parent = expanded[parent]\n",
    "\n",
    "            # Return the solution path\n",
    "            return solutionPath\n",
    "        ### END CODE HERE ###\n",
    "\n",
    "        # Reverse sort the children list to maintain the original order. \n",
    "        children.sort(reverse=True)\n",
    "        # Create the child parent list using the current state\n",
    "        childParent = [(child, state) for child in children]\n",
    "\n",
    "         ### START CODE HERE ###\n",
    "        # If breadth first search\n",
    "        if breadthFirst:\n",
    "            # Insert the childParent list in the front of the unExpanded list using + operator - FIFO\n",
    "            unExpanded = childParent + unExpanded\n",
    "        # Else if depth first search\n",
    "        else:\n",
    "            # Append the childParent list to the end of the unExpanded list using + operator - LIFO\n",
    "            unExpanded = unExpanded + childParent\n",
    "         ### END CODE HERE ###\n",
    "\n",
    "    # If the goal was not found, print this\n",
    "    return \"Goal Not Found!\""
   ]
  },
  {
   "cell_type": "markdown",
   "metadata": {},
   "source": [
    "### Example Test"
   ]
  },
  {
   "cell_type": "markdown",
   "metadata": {},
   "source": [
    "Now, let's test your BFS/DFS implementation on an example graph. But how do you represent a directed graph or tree in Python? Let's use a dictionary to specify all the successors of each node. We name this dictionary `successors`."
   ]
  },
  {
   "cell_type": "code",
   "execution_count": 59,
   "metadata": {
    "scrolled": true
   },
   "outputs": [
    {
     "data": {
      "text/plain": [
       "{'a': ['b', 'c', 'd'],\n",
       " 'b': ['e', 'f', 'g'],\n",
       " 'c': ['h', 'i'],\n",
       " 'd': ['j', 'z'],\n",
       " 'e': ['k', 'l'],\n",
       " 'g': ['m'],\n",
       " 'k': ['z']}"
      ]
     },
     "execution_count": 59,
     "metadata": {},
     "output_type": "execute_result"
    }
   ],
   "source": [
    "successors = {'a':  ['b', 'c', 'd'],\n",
    "              'b':  ['e', 'f', 'g'],\n",
    "              'c':  ['h', 'i'],\n",
    "              'd':  ['j', 'z'],\n",
    "              'e':  ['k', 'l'],\n",
    "              'g':  ['m'],\n",
    "              'k':  ['z']}\n",
    "successors"
   ]
  },
  {
   "cell_type": "markdown",
   "metadata": {},
   "source": [
    "The successors graph is illustrated below.\n",
    "\n",
    "<img src=\"img/A1-graph.png\" align=\"left\"/>"
   ]
  },
  {
   "cell_type": "markdown",
   "metadata": {},
   "source": [
    "We need a function now to return the successors of each node. To implement `successorsf` function, we import [copy library](https://docs.python.org/3.7/library/copy.html). This helps to get the successors of each key in the dictionary by providing a shallow copy of the binding value to each node (key) such that one can change one copy without changing the other. For more information on getting copies and mutable object bindings in Python, read the documentation in the [copy library](https://docs.python.org/3.7/library/copy.html)."
   ]
  },
  {
   "cell_type": "code",
   "execution_count": 60,
   "metadata": {},
   "outputs": [],
   "source": [
    "import copy\n",
    "\n",
    "def successorsf(state):\n",
    "    return copy.copy(successors.get(state, []))"
   ]
  },
  {
   "cell_type": "code",
   "execution_count": 61,
   "metadata": {},
   "outputs": [
    {
     "data": {
      "text/plain": [
       "['k', 'l']"
      ]
     },
     "execution_count": 61,
     "metadata": {},
     "output_type": "execute_result"
    }
   ],
   "source": [
    "successorsf('e')"
   ]
  },
  {
   "cell_type": "markdown",
   "metadata": {},
   "source": [
    "Now, let's try BFS/DFS with some example tests on this graph."
   ]
  },
  {
   "cell_type": "code",
   "execution_count": 62,
   "metadata": {},
   "outputs": [
    {
     "name": "stdout",
     "output_type": "stream",
     "text": [
      "Breadth-first\n",
      "path from a to a is ['a']\n",
      "path from a to m is ['a', 'b', 'g', 'm']\n",
      "path from a to z is ['a', 'd', 'z']\n"
     ]
    }
   ],
   "source": [
    "print('Breadth-first')\n",
    "print('path from a to a is', breadthFirstSearch('a', 'a', successorsf))\n",
    "print('path from a to m is', breadthFirstSearch('a', 'm', successorsf))\n",
    "print('path from a to z is', breadthFirstSearch('a', 'z', successorsf))"
   ]
  },
  {
   "cell_type": "markdown",
   "metadata": {},
   "source": [
    "## The correct output:\n",
    "\n",
    "`Breadth-first\n",
    "path from a to a is ['a']\n",
    "path from a to m is ['a', 'b', 'g', 'm']\n",
    "path from a to z is ['a', 'd', 'z']`"
   ]
  },
  {
   "cell_type": "code",
   "execution_count": 63,
   "metadata": {},
   "outputs": [
    {
     "name": "stdout",
     "output_type": "stream",
     "text": [
      "Depth-first\n",
      "path from a to a is ['a']\n",
      "path from a to m is ['a', 'b', 'g', 'm']\n",
      "path from a to z is ['a', 'b', 'e', 'k', 'z']\n"
     ]
    }
   ],
   "source": [
    "print('Depth-first')\n",
    "print('path from a to a is', depthFirstSearch('a', 'a', successorsf))\n",
    "print('path from a to m is', depthFirstSearch('a', 'm', successorsf))\n",
    "print('path from a to z is', depthFirstSearch('a', 'z', successorsf))"
   ]
  },
  {
   "cell_type": "markdown",
   "metadata": {},
   "source": [
    "## The correct output:\n",
    "\n",
    "`Depth-first\n",
    "path from a to a is ['a']\n",
    "path from a to m is ['a', 'b', 'g', 'm']\n",
    "path from a to z is ['a', 'b', 'e', 'k', 'z']`"
   ]
  },
  {
   "cell_type": "markdown",
   "metadata": {},
   "source": [
    ">What if no path exists?! Let's try!"
   ]
  },
  {
   "cell_type": "code",
   "execution_count": 64,
   "metadata": {},
   "outputs": [
    {
     "name": "stdout",
     "output_type": "stream",
     "text": [
      "Non-existent paths:\n",
      "path from b to d does not exist. Goal Not Found!\n",
      "path from d to h does not exist. Goal Not Found!\n"
     ]
    }
   ],
   "source": [
    "print('Non-existent paths:')\n",
    "print('path from b to d does not exist.', breadthFirstSearch('b', 'd', successorsf))\n",
    "print('path from d to h does not exist.', depthFirstSearch('d', 'h', successorsf))"
   ]
  },
  {
   "cell_type": "markdown",
   "metadata": {},
   "source": [
    "## The correct output:\n",
    "\n",
    "`Non-existent paths:\n",
    "path from b to d does not exist. Goal Not Found!\n",
    "path from d to h does not exist. Goal Not Found!`"
   ]
  },
  {
   "cell_type": "markdown",
   "metadata": {},
   "source": [
    "If you could get the desired outputs, <font color=blue>congratulations!</font> You're almost done with Part I, but before you move on to Part II, I need you to answer a few questions. I also want you to test your BFS/DFS on a grid which is a fun example! First, read the following section on expanded nodes and answer the following questions."
   ]
  },
  {
   "cell_type": "markdown",
   "metadata": {},
   "source": [
    "## Expanded Nodes vs The Solution Path"
   ]
  },
  {
   "cell_type": "markdown",
   "metadata": {},
   "source": [
    "- You may have noticed that your solution path consists of the nodes which are on the path from the start state to the goal state but not all epanded (visited) nodes are returned in the solution path, because not all of the expanded (visited) nodes are connected.\n",
    "\n",
    "- Moreover, BFS is a conditionally optimal algorithm, i.e. it returns the optimal solution under the condition that was discussed in the lecture and page 82 of the textbook - if the path cost is a non-decreasing function of the depth of the node. But, in your implementation, how could you display all the nodes that each algorithm BFS or DFS expanded before finding the goal? \n",
    "\n",
    "- To return all expanded nodes, add `list(expanded)` to `return` in line 54, like this:\n",
    "\n",
    ">`54 return solutionPath, list(expanded)`\n",
    "\n",
    "Notice that since `expanded` is a dictionary, we are getting a list of the keys in `dict` by applying `list()` converter."
   ]
  },
  {
   "cell_type": "markdown",
   "metadata": {},
   "source": [
    "Now, let's rerun our tests, and check both the solution path and the expanded nodes for BFS & DFS for node 'a' as the start state to node 'i' as the goal. We also import `time` to check the running time of the algorithms. Notice how we do this."
   ]
  },
  {
   "cell_type": "code",
   "execution_count": 65,
   "metadata": {},
   "outputs": [
    {
     "name": "stdout",
     "output_type": "stream",
     "text": [
      "Breadth-first\n",
      "Running time --- 0.0001088000003619527 seconds ---\n",
      "path from a to i is a and the expanded are c\n"
     ]
    },
    {
     "name": "stderr",
     "output_type": "stream",
     "text": [
      "C:\\ProgramData\\Anaconda3\\lib\\site-packages\\ipykernel_launcher.py:3: DeprecationWarning: time.clock has been deprecated in Python 3.3 and will be removed from Python 3.8: use time.perf_counter or time.process_time instead\n",
      "  This is separate from the ipykernel package so we can avoid doing imports until\n",
      "C:\\ProgramData\\Anaconda3\\lib\\site-packages\\ipykernel_launcher.py:5: DeprecationWarning: time.clock has been deprecated in Python 3.3 and will be removed from Python 3.8: use time.perf_counter or time.process_time instead\n",
      "  \"\"\"\n"
     ]
    }
   ],
   "source": [
    "import time\n",
    "print('Breadth-first')\n",
    "start_time = time.clock()\n",
    "returned = breadthFirstSearch('a', 'i', successorsf)\n",
    "print(\"Running time --- %s seconds ---\" % (time.clock() - start_time))\n",
    "print('path from a to i is {} and the expanded are {}'.format(returned[0], returned[1]))"
   ]
  },
  {
   "cell_type": "code",
   "execution_count": 66,
   "metadata": {},
   "outputs": [
    {
     "name": "stdout",
     "output_type": "stream",
     "text": [
      "Depth-first\n",
      "Running time --- 0.00014590000000680448 seconds ---\n",
      "path from a to i is a and the expanded nodes are c\n"
     ]
    },
    {
     "name": "stderr",
     "output_type": "stream",
     "text": [
      "C:\\ProgramData\\Anaconda3\\lib\\site-packages\\ipykernel_launcher.py:2: DeprecationWarning: time.clock has been deprecated in Python 3.3 and will be removed from Python 3.8: use time.perf_counter or time.process_time instead\n",
      "  \n",
      "C:\\ProgramData\\Anaconda3\\lib\\site-packages\\ipykernel_launcher.py:4: DeprecationWarning: time.clock has been deprecated in Python 3.3 and will be removed from Python 3.8: use time.perf_counter or time.process_time instead\n",
      "  after removing the cwd from sys.path.\n"
     ]
    }
   ],
   "source": [
    "print('Depth-first')\n",
    "start_time = time.clock()\n",
    "returned = depthFirstSearch('a', 'i', successorsf)\n",
    "print(\"Running time --- %s seconds ---\" % (time.clock() - start_time))\n",
    "print('path from a to i is {} and the expanded nodes are {}'.format(returned[0], returned[1]))"
   ]
  },
  {
   "cell_type": "markdown",
   "metadata": {},
   "source": [
    "## Part I Questions"
   ]
  },
  {
   "cell_type": "markdown",
   "metadata": {},
   "source": [
    "- Copy your output (solution path and expanded nodes) of the two previous cells - BFS and DFS tests - in the cell below.\n",
    "- Q1 - Compare the length of the solution path and the list of expanded nodes for BFS and DFS.\n",
    "- Q2 - Compare the running time of BFS and DFS for this test. Run both cells 3 times and check if there is any slight difference between them.\n",
    "- Q3 - The list of expanded nodes does not contain the goal itself. Why? \n",
    "><b>Hint:</b> Note that some implementations of these algorithms do not check (goeal-test) the children of the node (successors) every time a new node is being expanded. But, we go with the Russel & Norvig textbook way of doing this. See Figure 3.11 for BFS on page 82. Also note that the textbook uses different names for unexpanded and expanded lists, `frontier` and `explored` respectively.\n",
    "\n",
    "<font color=red>Enter your answers and copy the output of the two previous cells in the following markdown cell.</font>"
   ]
  },
  {
   "cell_type": "markdown",
   "metadata": {},
   "source": [
    "- Your outputs and answer to Part I questions goes here - below the lines:\n",
    "\n",
    "========================================================\n",
    "\n",
    "YOUR OUTPUTS:\n",
    "\n",
    "`Breadth-first\n",
    "Running time --- 0.00010879999990720535 seconds ---\n",
    "path from a to i is ['a', 'c', 'i'] and the expanded are ['a', 'b', 'c']`\n",
    "\n",
    "`Depth-first\n",
    "Running time --- 0.0001488000002609624 seconds ---\n",
    "path from a to i is ['a', 'c', 'i'] and the expanded nodes are ['a', 'b', 'e', 'k', 'z', 'l', 'f', 'g', 'm', 'c']`\n",
    "\n",
    "========================================================\n",
    "\n",
    "YOUR Answers:\n",
    "\n",
    "- Q1 - BFS and DFS found the same path to the solution, but DFS required expanding several more nodes than BFS.\n",
    "\n",
    "- Q2 - The difference in running time is slight, but BFS tends to finish faster than DFS. \n",
    "\n",
    "- Q3 - The goal node itself is added to the path once reached, it does not need to be expanded."
   ]
  },
  {
   "cell_type": "markdown",
   "metadata": {},
   "source": [
    "<b>Attention: </b>After you answered the questions, and before you proceed, <b>REMOVE</b> the expanded list `list(expanded)` from `return` in line 54, we no longer need it. If you don't remove it, the results of the following test will be incorrect!"
   ]
  },
  {
   "cell_type": "markdown",
   "metadata": {},
   "source": [
    "Alright, before we move on to Part II, let's try your BFS/DFS on one more example test - a navigation problem around a grid of size 10 x 10. Rows and columns will be indexed from 0 to 9. This is fun! No implementation required for this test! But your implemented function should return the correct output.\n",
    "\n",
    "The following function takes the input state and returns all possible states."
   ]
  },
  {
   "cell_type": "code",
   "execution_count": 67,
   "metadata": {},
   "outputs": [],
   "source": [
    "def gridSuccessors(state):\n",
    "    row, col = state\n",
    "    # successors will be list of tuples () rather than list of lists [] because state must\n",
    "    # be an immutable type to serve as a key in dictionary of expanded nodes\n",
    "    succs = []\n",
    "    for r in [-1, 0, 1]:   #check each row\n",
    "        for c in [-1, 0, 1]:  # check in each col\n",
    "            newr = row + r\n",
    "            newc = col + c\n",
    "            if 0 <= newr <= 9 and 0 <= newc <= 9:  \n",
    "                succs.append( (newr, newc) )\n",
    "    return succs"
   ]
  },
  {
   "cell_type": "code",
   "execution_count": 68,
   "metadata": {},
   "outputs": [
    {
     "data": {
      "text/plain": [
       "[(2, 3), (2, 4), (2, 5), (3, 3), (3, 4), (3, 5), (4, 3), (4, 4), (4, 5)]"
      ]
     },
     "execution_count": 68,
     "metadata": {},
     "output_type": "execute_result"
    }
   ],
   "source": [
    "gridSuccessors([3,4])"
   ]
  },
  {
   "cell_type": "code",
   "execution_count": 69,
   "metadata": {},
   "outputs": [
    {
     "data": {
      "text/plain": [
       "[(2, 8), (2, 9), (3, 8), (3, 9), (4, 8), (4, 9)]"
      ]
     },
     "execution_count": 69,
     "metadata": {},
     "output_type": "execute_result"
    }
   ],
   "source": [
    "gridSuccessors([3,9])"
   ]
  },
  {
   "cell_type": "code",
   "execution_count": 70,
   "metadata": {},
   "outputs": [
    {
     "data": {
      "text/plain": [
       "[(0, 0), (0, 1), (1, 0), (1, 1)]"
      ]
     },
     "execution_count": 70,
     "metadata": {},
     "output_type": "execute_result"
    }
   ],
   "source": [
    "gridSuccessors([0,0])"
   ]
  },
  {
   "cell_type": "code",
   "execution_count": 71,
   "metadata": {},
   "outputs": [
    {
     "name": "stdout",
     "output_type": "stream",
     "text": [
      "Breadth-first\n",
      "path from (0, 0) to (9, 9) is [(0, 0), (1, 1), (2, 2), (3, 3), (4, 4), (5, 5), (6, 6), (7, 7), (8, 8), (9, 9)]\n"
     ]
    }
   ],
   "source": [
    "print('Breadth-first')\n",
    "print('path from (0, 0) to (9, 9) is', breadthFirstSearch((0, 0), (9, 9), gridSuccessors))"
   ]
  },
  {
   "cell_type": "code",
   "execution_count": 72,
   "metadata": {},
   "outputs": [
    {
     "name": "stdout",
     "output_type": "stream",
     "text": [
      "Breadth-first search path from (0, 0) to (9, 9):\n",
      "[(0, 0), (1, 1), (2, 2), (3, 3), (4, 4), (5, 5), (6, 6), (7, 7), (8, 8), (9, 9)]\n"
     ]
    },
    {
     "data": {
      "image/png": "[encoded data removed]",
      "text/plain": [
       "<Figure size 432x288 with 1 Axes>"
      ]
     },
     "metadata": {
      "needs_background": "light"
     },
     "output_type": "display_data"
    }
   ],
   "source": [
    "import matplotlib.pyplot as plt\n",
    "%matplotlib inline\n",
    "print('Breadth-first search path from (0, 0) to (9, 9):')\n",
    "path = breadthFirstSearch((0, 0), (9, 9), gridSuccessors)\n",
    "print(path)\n",
    "rows = [location[0] for location in path]\n",
    "cols = [location[1] for location in path]\n",
    "plt.plot(rows,cols,'o-');"
   ]
  },
  {
   "cell_type": "markdown",
   "metadata": {},
   "source": [
    "## The correct plot for BFS\n",
    "\n",
    "<img src=\"img/grid-bfs.png\" align=\"left\"/>"
   ]
  },
  {
   "cell_type": "markdown",
   "metadata": {},
   "source": [
    "> How about DFS?"
   ]
  },
  {
   "cell_type": "code",
   "execution_count": 73,
   "metadata": {},
   "outputs": [
    {
     "name": "stdout",
     "output_type": "stream",
     "text": [
      "Depth-first\n",
      "path from (0, 0) to (9, 9) is [(0, 0), (0, 1), (0, 2), (0, 3), (0, 4), (0, 5), (0, 6), (0, 7), (0, 8), (1, 9), (2, 8), (2, 7), (2, 6), (2, 5), (2, 4), (2, 3), (2, 2), (2, 1), (3, 0), (4, 0), (5, 0), (6, 0), (7, 0), (8, 0), (9, 1), (8, 2), (7, 2), (6, 2), (5, 2), (4, 3), (4, 4), (4, 5), (4, 6), (4, 7), (4, 8), (5, 9), (6, 8), (6, 7), (6, 6), (6, 5), (7, 4), (8, 4), (9, 5), (8, 6), (8, 7), (8, 8), (9, 9)]\n"
     ]
    }
   ],
   "source": [
    "print('Depth-first')\n",
    "print('path from (0, 0) to (9, 9) is', depthFirstSearch((0, 0), (9, 9), gridSuccessors))"
   ]
  },
  {
   "cell_type": "markdown",
   "metadata": {},
   "source": [
    "Let's plot the paths."
   ]
  },
  {
   "cell_type": "code",
   "execution_count": 74,
   "metadata": {},
   "outputs": [
    {
     "data": {
      "text/plain": [
       "[(0, 0),\n",
       " (0, 1),\n",
       " (0, 2),\n",
       " (0, 3),\n",
       " (0, 4),\n",
       " (0, 5),\n",
       " (0, 6),\n",
       " (0, 7),\n",
       " (0, 8),\n",
       " (1, 9),\n",
       " (2, 8),\n",
       " (2, 7),\n",
       " (2, 6),\n",
       " (2, 5),\n",
       " (2, 4),\n",
       " (2, 3),\n",
       " (2, 2),\n",
       " (2, 1),\n",
       " (3, 0),\n",
       " (4, 0),\n",
       " (5, 0),\n",
       " (6, 0),\n",
       " (7, 0),\n",
       " (8, 0),\n",
       " (9, 1),\n",
       " (8, 2),\n",
       " (7, 2),\n",
       " (6, 2),\n",
       " (5, 2),\n",
       " (4, 3),\n",
       " (4, 4),\n",
       " (4, 5),\n",
       " (4, 6),\n",
       " (4, 7),\n",
       " (4, 8),\n",
       " (5, 9),\n",
       " (6, 8),\n",
       " (6, 7),\n",
       " (6, 6),\n",
       " (6, 5),\n",
       " (7, 4),\n",
       " (8, 4),\n",
       " (9, 5),\n",
       " (8, 6),\n",
       " (8, 7),\n",
       " (8, 8),\n",
       " (9, 9)]"
      ]
     },
     "execution_count": 74,
     "metadata": {},
     "output_type": "execute_result"
    }
   ],
   "source": [
    "path = depthFirstSearch((0, 0), (9, 9), gridSuccessors)\n",
    "path"
   ]
  },
  {
   "cell_type": "markdown",
   "metadata": {},
   "source": [
    "Now, we have the path to goal state. To plot this path we must extract the first value in each tuple and put them in a list called `rows` to use as the $y$ coordinate of each point, and build a second list called `cols` of second values."
   ]
  },
  {
   "cell_type": "code",
   "execution_count": 75,
   "metadata": {},
   "outputs": [],
   "source": [
    "import matplotlib.pyplot as plt\n",
    "%matplotlib inline"
   ]
  },
  {
   "cell_type": "code",
   "execution_count": 76,
   "metadata": {},
   "outputs": [
    {
     "data": {
      "image/png": "[encoded data removed]",
      "text/plain": [
       "<Figure size 432x288 with 1 Axes>"
      ]
     },
     "metadata": {
      "needs_background": "light"
     },
     "output_type": "display_data"
    }
   ],
   "source": [
    "rows = [location[0] for location in path]\n",
    "cols = [location[1] for location in path]\n",
    "plt.plot(rows,cols,'o-');"
   ]
  },
  {
   "cell_type": "markdown",
   "metadata": {},
   "source": [
    "## The correct plot for DFS\n",
    "\n",
    "<img src=\"img/grid-dfs.png\" align=\"left\"/>"
   ]
  },
  {
   "cell_type": "markdown",
   "metadata": {},
   "source": [
    "> How about out-of-bound input?"
   ]
  },
  {
   "cell_type": "code",
   "execution_count": 77,
   "metadata": {},
   "outputs": [
    {
     "data": {
      "text/plain": [
       "'Goal Not Found!'"
      ]
     },
     "execution_count": 77,
     "metadata": {},
     "output_type": "execute_result"
    }
   ],
   "source": [
    "depthFirstSearch((0, 0), (9, 20), gridSuccessors)"
   ]
  },
  {
   "cell_type": "code",
   "execution_count": 78,
   "metadata": {},
   "outputs": [
    {
     "name": "stdout",
     "output_type": "stream",
     "text": [
      "Non-existent paths:\n",
      "path from (5,5) to (10,10) is Goal Not Found!\n",
      "path from (5,5) to (10,10) is Goal Not Found!\n"
     ]
    }
   ],
   "source": [
    "print('Non-existent paths:')\n",
    "print('path from (5,5) to (10,10) is', breadthFirstSearch((5,5), (10,10), gridSuccessors))\n",
    "print('path from (5,5) to (10,10) is', depthFirstSearch((5,5), (10,10), gridSuccessors))"
   ]
  },
  {
   "cell_type": "code",
   "execution_count": 79,
   "metadata": {},
   "outputs": [
    {
     "name": "stdout",
     "output_type": "stream",
     "text": [
      "Same starting and goal states:\n",
      "path from (5,5) to (5,5) is [(5, 5)]\n",
      "path from (5,5) to (5,5) is [(5, 5)]\n"
     ]
    }
   ],
   "source": [
    "print('Same starting and goal states:')\n",
    "print('path from (5,5) to (5,5) is', breadthFirstSearch((5,5), (5,5), gridSuccessors))\n",
    "print('path from (5,5) to (5,5) is', depthFirstSearch((5,5), (5,5), gridSuccessors))"
   ]
  },
  {
   "cell_type": "markdown",
   "metadata": {},
   "source": [
    "# Part II - Depth-Limited Search and Iterative Deepening DFS"
   ]
  },
  {
   "cell_type": "markdown",
   "metadata": {},
   "source": [
    "## Required Code"
   ]
  },
  {
   "cell_type": "markdown",
   "metadata": {},
   "source": [
    "In <b>Part II</b> of this Jupyter Notebook, you must implement the following functions:\n",
    "\n",
    "* `iterativeDeepeningSearch(startState, goalState, actionsF, takeActionF, maxDepth)`\n",
    "* `depthLimitedSearch(startState, goalState, actionsF, takeActionF, depthLimit)`\n",
    "\n",
    "`depthLimitedSearch` is called by `iterativeDeepeningSearch` with `depthLimit`s of {$0, 1, \\ldots, $ `maxDepth`}. Both must return either the solution path as a list of states, or the strings `cutoff` or `failure`.  `failure` indicates that all states were searched and the goal was not found. \n",
    "\n",
    "Each search function receives the following arguments:\n",
    "\n",
    "  * the starting state, \n",
    "  * the goal state,\n",
    "  * a function `actionsF` that is given a state and returns a list of valid actions from that state,\n",
    "  * a function `takeActionF` that is given a state and an action and returns the new state that results from applying the action directly to the state,\n",
    "  * either a `depthLimit` for `depthLimitedSearch`, or `maxDepth` for `iterativeDeepeningSearch`."
   ]
  },
  {
   "cell_type": "markdown",
   "metadata": {},
   "source": [
    "Once you implemented the required functions, use your solution to solve the 8-puzzle - Remember how I tried to [solve it online](http://www.tilepuzzles.com/default.asp?p=12) during the lecture? Now, Artificial Intelligence powered by YOUR intelligence will help solve this puzzle! \n",
    "\n",
    "The state of the puzzle are represented as a list of integers. 0 represents the empty position. \n",
    "\n",
    "Helper functions for the 8-puzzle are the following, and they are provided to you in the following cells. What you need to do for these helper functions is reading the code to make sure you understand what they do, and then implement the search algorithms.  These functions also have a more generalized version that can be used to solve more complicated puzzles like [15-puzzle](http://lorecioni.github.io/fifteen-puzzle-game/). Feel free to apply your algorithms and play with them once you finished your assignment!\n",
    "\n",
    "  * `printState_8p(state)` prints the current state of the 8-puzzle.\n",
    "  * `findBlank_8p(state)`: return the row and column index for the location of the blank (the 0 value).\n",
    "  * `actionsF_8p(state)`: returns a list of up to four valid actions that can be applied in `state`. Return them in the order `left`, `right`, `up`, `down`, though only if each one is a valid action.\n",
    "  * `takeActionF_8p(state, action)`: return the state that results from applying `action` in `state`.\n",
    "  * `printPath_8p(startState, goalState, path)`: print a solution path in a readable form.  You may choose the format."
   ]
  },
  {
   "cell_type": "code",
   "execution_count": 80,
   "metadata": {},
   "outputs": [],
   "source": [
    "# Print the current state of the 8-puzzle\n",
    "def printState_8p(currentState):\n",
    "    # Call the print state helper function\n",
    "    printState_Puzzle(currentState, 3, 3)\n",
    "\n",
    "# Print the current state of a puzzle\n",
    "def printState_Puzzle(currentState, rows, columns):\n",
    "    # Counter for the index\n",
    "    index = 0\n",
    "    \n",
    "    # For each row\n",
    "    for row in range(rows):\n",
    "        \n",
    "        # For each column\n",
    "        for column in range(columns):\n",
    "            \n",
    "            # If this is the blank, print a dash\n",
    "            if currentState[index] == 0:\n",
    "                print(' -', end=' ')\n",
    "            else: # Else\n",
    "                # Print the value at the current index\n",
    "                # A width of 2 was used to accomodate the 15-puzzle double digits\n",
    "                print('%2i' % currentState[index], end=' ')\n",
    "                \n",
    "            # Increment the index counter\n",
    "            index += 1\n",
    "            \n",
    "        # Print a new line\n",
    "        print()"
   ]
  },
  {
   "cell_type": "markdown",
   "metadata": {},
   "source": [
    "> This is an example start state. We will use a simple list data structure to hold all of the values. The rows and columns will be handled by the code. The blank will be represented by a 0 digit."
   ]
  },
  {
   "cell_type": "code",
   "execution_count": 81,
   "metadata": {},
   "outputs": [],
   "source": [
    "startState = [1, 0, 3, 4, 2, 5, 6, 7, 8]"
   ]
  },
  {
   "cell_type": "markdown",
   "metadata": {},
   "source": [
    "> Below is a sample output from the `printState` function. We pass in the state as an argument. It outputs the values of the tiles by row and column. The blank is printed as a dash for easier readability."
   ]
  },
  {
   "cell_type": "code",
   "execution_count": 82,
   "metadata": {},
   "outputs": [
    {
     "name": "stdout",
     "output_type": "stream",
     "text": [
      " 1  -  3 \n",
      " 4  2  5 \n",
      " 6  7  8 \n"
     ]
    }
   ],
   "source": [
    "printState_8p(startState)"
   ]
  },
  {
   "cell_type": "markdown",
   "metadata": {},
   "source": [
    "### Find Blank 8-Puzzle"
   ]
  },
  {
   "cell_type": "markdown",
   "metadata": {},
   "source": [
    "The `findBlank_8p` wrapper function returns the location of the blank in an 8-puzzle. It calls the findBlank_Puzzle helper function using the current state and number of rows and columns in the puzzle. These were also designed to accommodate different sized puzzles. The **findBlank_Puzzle** function works similarly to the print state function above. It iterates through the rows and columns but instead returns the location of the blank when it's found."
   ]
  },
  {
   "cell_type": "code",
   "execution_count": 83,
   "metadata": {},
   "outputs": [],
   "source": [
    "# Find the location of the blank in an 8-puzzle\n",
    "def findBlank_8p(currentState):\n",
    "    # Call the find blank helper function and return the location\n",
    "    return findBlank_Puzzle(currentState, 3, 3)\n",
    "\n",
    "# Find the location of a blank in a puzzle\n",
    "def findBlank_Puzzle(currentState, rows, columns):\n",
    "    # Counter for the index\n",
    "    index = 0\n",
    "    \n",
    "    # For each row\n",
    "    for row in range(rows):\n",
    "        \n",
    "        # For each column\n",
    "        for column in range(columns):\n",
    "            \n",
    "            # If this is the blank\n",
    "            if currentState[index] == 0:\n",
    "                # Return the location\n",
    "                return (row, column)\n",
    "            \n",
    "            # Increment the index counter\n",
    "            index += 1"
   ]
  },
  {
   "cell_type": "markdown",
   "metadata": {},
   "source": [
    "Below is an output from our find blank function. Note that the return value is a tuple with index locations. The index is the row and the second is the column. So (0,1) represents the first row and second column, which corresponds to the blank in our example above."
   ]
  },
  {
   "cell_type": "code",
   "execution_count": 84,
   "metadata": {},
   "outputs": [
    {
     "data": {
      "text/plain": [
       "(0, 1)"
      ]
     },
     "execution_count": 84,
     "metadata": {},
     "output_type": "execute_result"
    }
   ],
   "source": [
    "findBlank_8p(startState)"
   ]
  },
  {
   "cell_type": "markdown",
   "metadata": {},
   "source": [
    "### Actions Function 8-Puzzle"
   ]
  },
  {
   "cell_type": "markdown",
   "metadata": {},
   "source": [
    "The `actionsF_8p` wrapper function returns the valid actions for the current state of the 8-puzzle. It calls the helper function actionsF_Puzzle using the current state and the number of rows and columns. This was also designed to accommodate different sized puzzles. The `actionsF_Puzzle` function iterates through the rows and columns as the other functions above do. Once it finds the blank, it uses the current row and column to verify which actions are valid from that location. Then it returns the actions list."
   ]
  },
  {
   "cell_type": "code",
   "execution_count": 85,
   "metadata": {},
   "outputs": [],
   "source": [
    "# Returns the valid actions for the current state of the 8-puzzle\n",
    "def actionsF_8p(currentState):\n",
    "    # Call the helper function and return the value\n",
    "    return actionsF_Puzzle(currentState, 3, 3)\n",
    "\n",
    "# Returns the valid actions for the current state of a puzzle\n",
    "def actionsF_Puzzle(currentState, rows, columns):\n",
    "    # Counter for the index\n",
    "    index = 0\n",
    "    \n",
    "    # For each row\n",
    "    for row in range(rows):\n",
    "        \n",
    "        # For each column\n",
    "        for column in range(columns):\n",
    "            \n",
    "            # If this is the blank\n",
    "            if currentState[index] == 0:\n",
    "                # Create the actions list\n",
    "                actions = []\n",
    "                \n",
    "                # If the column is not at the far left, append left\n",
    "                if column > 0:\n",
    "                    actions.append(\"left\")\n",
    "                # If the column is not at the far right, append right\n",
    "                if column < columns - 1:\n",
    "                    actions.append(\"right\")\n",
    "                # If the row is not at the top, append up\n",
    "                if row > 0:\n",
    "                    actions.append(\"up\")\n",
    "                # If the row is not at the bottom, append down\n",
    "                if row < rows - 1:\n",
    "                    actions.append(\"down\")\n",
    "                    \n",
    "                # Return the actions list\n",
    "                return actions\n",
    "            \n",
    "            # Increment the index counter\n",
    "            index += 1"
   ]
  },
  {
   "cell_type": "markdown",
   "metadata": {},
   "source": [
    "Below is the output from the actions function. It takes in the start state and returns a list of all of the valid actions. Since the blank in the example above is at the top row, notice that the action 'up' is not returned in the list since that would not be a valid action."
   ]
  },
  {
   "cell_type": "code",
   "execution_count": 86,
   "metadata": {},
   "outputs": [
    {
     "data": {
      "text/plain": [
       "['left', 'right', 'down']"
      ]
     },
     "execution_count": 86,
     "metadata": {},
     "output_type": "execute_result"
    }
   ],
   "source": [
    "actionsF_8p(startState)"
   ]
  },
  {
   "cell_type": "markdown",
   "metadata": {},
   "source": [
    "### Take Action Function 8-Puzzle"
   ]
  },
  {
   "cell_type": "markdown",
   "metadata": {},
   "source": [
    "The `takeActionF_8p` wrapper function below takes the action given on the input state for an 8-puzzle and returns the new state that the puzzle transitions to. It calls the takeActionF_Puzzle helper function. It was also designed to accommodate different sized puzzles. The `takeActionF_Puzzle` function begins by making a copy of the given state. The [`copy`](https://docs.python.org/3.7/library/copy.html) was needed so as not to modify the state that was passed in by reference. The function iterates through the rows and columns and locates the blank. When the blank is found, it performs the given action by \"moving\" the blank to the specified direction. It does this by swapping the values in the state list. Then the resulting new state is returned."
   ]
  },
  {
   "cell_type": "code",
   "execution_count": 87,
   "metadata": {},
   "outputs": [],
   "source": [
    "# Import the copy module\n",
    "import copy\n",
    "\n",
    "# Take the given action on the given state for an 8-puzzle and return the new state\n",
    "def takeActionF_8p(currentState, action):\n",
    "    # Call the take action helper function\n",
    "    return takeActionF_Puzzle(currentState, action, 3, 3)\n",
    "\n",
    "# Take the given action on the given state for a puzzle and return the new state\n",
    "def takeActionF_Puzzle(currentState, action, rows, columns):\n",
    "    # Create a copy of the currentState (needed so we don't modify the original)\n",
    "    newState = copy.copy(currentState)\n",
    "    \n",
    "    # Counter for the index\n",
    "    index = 0\n",
    "    \n",
    "    # For each row\n",
    "    for row in range(rows):\n",
    "        \n",
    "        # For each column\n",
    "        for column in range(columns):\n",
    "            \n",
    "            # If this is the blank\n",
    "            if newState[index] == 0:\n",
    "                \n",
    "                # If action is left, then swap with left value\n",
    "                if action == \"left\":\n",
    "                    newState[index], newState[index-1] = newState[index-1], newState[index]\n",
    "                # If action is right, then swap with right value\n",
    "                elif action == \"right\":\n",
    "                    newState[index], newState[index+1] = newState[index+1], newState[index]\n",
    "                # If action is up, then swap with the value above\n",
    "                elif action == \"up\":\n",
    "                    newState[index], newState[index-columns] = newState[index-columns], newState[index]\n",
    "                # If action is down, then swap with the value below\n",
    "                elif action == \"down\":\n",
    "                    newState[index], newState[index+columns] = newState[index+columns], newState[index]\n",
    "                    \n",
    "                # Return the new state\n",
    "                return newState\n",
    "            \n",
    "            # Increment the index counter\n",
    "            index += 1"
   ]
  },
  {
   "cell_type": "markdown",
   "metadata": {},
   "source": [
    "The output for the `takeActionF_8p` function is shown below. Given our start state above and the action of 'down', the blank moves from the upper center position down to the middle center position. It essentially swaps position with the 2 below it."
   ]
  },
  {
   "cell_type": "code",
   "execution_count": 88,
   "metadata": {},
   "outputs": [
    {
     "data": {
      "text/plain": [
       "[1, 2, 3, 4, 0, 5, 6, 7, 8]"
      ]
     },
     "execution_count": 88,
     "metadata": {},
     "output_type": "execute_result"
    }
   ],
   "source": [
    "takeActionF_8p(startState, 'down')"
   ]
  },
  {
   "cell_type": "markdown",
   "metadata": {},
   "source": [
    ">A formatted version is below for easier readability."
   ]
  },
  {
   "cell_type": "code",
   "execution_count": 89,
   "metadata": {},
   "outputs": [
    {
     "name": "stdout",
     "output_type": "stream",
     "text": [
      " 1  2  3 \n",
      " 4  -  5 \n",
      " 6  7  8 \n"
     ]
    }
   ],
   "source": [
    "printState_8p(takeActionF_8p(startState, 'down'))"
   ]
  },
  {
   "cell_type": "markdown",
   "metadata": {},
   "source": [
    ">The sanity-check test below is just to demonstrate that the `takeActionF_8p` function returns a new state without changing/affecting the original input start state list. The outcome is tested by comparing two calls to the same function using the same start state."
   ]
  },
  {
   "cell_type": "code",
   "execution_count": 90,
   "metadata": {},
   "outputs": [],
   "source": [
    "goalState = takeActionF_8p(startState, 'down')"
   ]
  },
  {
   "cell_type": "code",
   "execution_count": 91,
   "metadata": {},
   "outputs": [],
   "source": [
    "newState = takeActionF_8p(startState, 'down')"
   ]
  },
  {
   "cell_type": "code",
   "execution_count": 92,
   "metadata": {},
   "outputs": [
    {
     "data": {
      "text/plain": [
       "True"
      ]
     },
     "execution_count": 92,
     "metadata": {},
     "output_type": "execute_result"
    }
   ],
   "source": [
    "newState == goalState"
   ]
  },
  {
   "cell_type": "markdown",
   "metadata": {},
   "source": [
    "### Depth Limited Search <font color = red> Required Implementation!"
   ]
  },
  {
   "cell_type": "markdown",
   "metadata": {},
   "source": [
    "The **Depth Limited Search** performs a DFS algorithm but with a specified depth limit to resolve some of the issues with DFS such as getting stuck in a branch. It takes in as arguments the start state, goal state, the actions functions, and the depth limit. If the goal is found within the depth limit, then the path is returned. If we reach a cutoff, then a message is returned. If we fail to find the goal, then a failure message is returned. You will be using a recursive algorithm for this implementation. This allows you to use your depth-limited search in implementing your next algorithm iterative deepening DFS. Let's go!"
   ]
  },
  {
   "cell_type": "code",
   "execution_count": 96,
   "metadata": {},
   "outputs": [],
   "source": [
    "# Performs a recursive depth limited search using a specified start state,\n",
    "# goal state, actions functions, and depth limit. Either returns the path\n",
    "# or it returns the string 'cutoff' or 'failure'.\n",
    "def depthLimitedSearch(state, goalState, actionsF, takeActionF, depthLimit):\n",
    "    \n",
    "    ### START CODE HERE ###\n",
    "    # If we have reached the goal state, i.e. state equals to goalState, then return an empty list\n",
    "    if state == goalState:\n",
    "        return []\n",
    "    ### END CODE HERE ###\n",
    "    \n",
    "    # If we have reached the depth limit, then return \"cutoff\" \n",
    "    if depthLimit == 0:\n",
    "        return \"cutoff\"\n",
    "    \n",
    "    # Create the cut off flag\n",
    "    cutoffOccurred = False\n",
    "    \n",
    "    # Loop through each action for this state\n",
    "    for action in actionsF(state):\n",
    "        \n",
    "        ### START CODE HERE ###\n",
    "        # Take the current action and apply it to the current state using takeActionF\n",
    "        childState = takeActionF(state, action)\n",
    "        \n",
    "        # Do a recursive call to depthLimitedSearch using the (childState, goalState, takeActionF, depthLimit-1)\n",
    "        result = depthLimitedSearch(childState, goalState, actionsF, takeActionF, depthLimit-1)\n",
    "        \n",
    "        # If the recursive call (result) equals \"cutoff\", then set the cutoff flag (cutoffOccured) to True\n",
    "        if result == \"cutoff\":\n",
    "            cutoffOccurred = True\n",
    "        # Else if the recursive call (result) doesn't equal \"failure\", \n",
    "        # then insert the childState into the result at position 0 using insert method\n",
    "        elif result != \"failure\":\n",
    "            result.insert(0, childState)\n",
    "             # Return the result\n",
    "            return result\n",
    "        ### END CODE HERE ###\n",
    "        \n",
    "    # If a cutoff did occur, then return a cutoff string\n",
    "    if cutoffOccurred:\n",
    "        return \"cutoff\"\n",
    "    # Otherwise, we have failed to find the goal. Return failure.\n",
    "    else:\n",
    "        return \"failure\""
   ]
  },
  {
   "cell_type": "markdown",
   "metadata": {},
   "source": [
    "To test this function, we can use the starting state and goal state below. Notice that an obvious solution would be to move the blank two spaces down. However, we will soon see that the returned solution from this algorithm isn't always the optimal solution.\n",
    "\n",
    "<b>Note:</b> To keep the desired outputs as you follow and run the cells from this point on, you may make a copy of the notebook, or copy the cells so as not to lose the correct and desired outputs for your comparison."
   ]
  },
  {
   "cell_type": "code",
   "execution_count": 97,
   "metadata": {},
   "outputs": [
    {
     "name": "stdout",
     "output_type": "stream",
     "text": [
      " 1  -  3 \n",
      " 4  2  5 \n",
      " 6  7  8 \n",
      "\n",
      " 1  2  3 \n",
      " 4  7  5 \n",
      " 6  -  8 \n"
     ]
    }
   ],
   "source": [
    "startState = [1, 0, 3, 4, 2, 5, 6, 7, 8]\n",
    "goalState = [1, 2, 3, 4, 7, 5, 6, 0, 8]\n",
    "printState_8p(startState)\n",
    "print()\n",
    "printState_8p(goalState)"
   ]
  },
  {
   "cell_type": "markdown",
   "metadata": {},
   "source": [
    ">If we pass in a depth of 1, the function should return a cutoff since the goal is not reachable in 1 step."
   ]
  },
  {
   "cell_type": "code",
   "execution_count": 98,
   "metadata": {},
   "outputs": [
    {
     "data": {
      "text/plain": [
       "'cutoff'"
      ]
     },
     "execution_count": 98,
     "metadata": {},
     "output_type": "execute_result"
    }
   ],
   "source": [
    "path = depthLimitedSearch(startState, goalState, actionsF_8p, takeActionF_8p, 1)\n",
    "path"
   ]
  },
  {
   "cell_type": "markdown",
   "metadata": {},
   "source": [
    ">If we pass in a depth of 2, the function is able to return the correct solution path of moving down two spaces."
   ]
  },
  {
   "cell_type": "code",
   "execution_count": 99,
   "metadata": {},
   "outputs": [
    {
     "name": "stdout",
     "output_type": "stream",
     "text": [
      " 1  -  3 \n",
      " 4  2  5 \n",
      " 6  7  8 \n",
      "\n",
      " 1  2  3 \n",
      " 4  -  5 \n",
      " 6  7  8 \n",
      "\n",
      " 1  2  3 \n",
      " 4  7  5 \n",
      " 6  -  8 \n"
     ]
    }
   ],
   "source": [
    "path = depthLimitedSearch(startState, goalState, actionsF_8p, takeActionF_8p, 2)\n",
    "printState_8p(startState)\n",
    "print()\n",
    "printState_8p(path[0])\n",
    "print()\n",
    "printState_8p(path[1])"
   ]
  },
  {
   "cell_type": "markdown",
   "metadata": {},
   "source": [
    ">However, notice when we pass in a depth greater than the optimal number of steps to the goal. The depth limited search takes a non-optimal path of moving the blank to the left and back to right again in the same spot before going down. The reason for this is because our algorithm generates the actions in the order of left, right, up, and down. Depth first search goes down deep before returning so unless we keep track of the previously visited states, it could take a path that leads to the same state again. In this case it went left and then right before descending down leading to a non-optimal solution."
   ]
  },
  {
   "cell_type": "code",
   "execution_count": 100,
   "metadata": {},
   "outputs": [
    {
     "name": "stdout",
     "output_type": "stream",
     "text": [
      " 1  -  3 \n",
      " 4  2  5 \n",
      " 6  7  8 \n",
      "\n",
      " -  1  3 \n",
      " 4  2  5 \n",
      " 6  7  8 \n",
      "\n",
      " 1  -  3 \n",
      " 4  2  5 \n",
      " 6  7  8 \n",
      "\n",
      " 1  2  3 \n",
      " 4  -  5 \n",
      " 6  7  8 \n",
      "\n",
      " 1  2  3 \n",
      " 4  7  5 \n",
      " 6  -  8 \n"
     ]
    }
   ],
   "source": [
    "path = depthLimitedSearch(startState, goalState, actionsF_8p, takeActionF_8p, 4)\n",
    "printState_8p(startState)\n",
    "print()\n",
    "printState_8p(path[0])\n",
    "print()\n",
    "printState_8p(path[1])\n",
    "print()\n",
    "printState_8p(path[2])\n",
    "print()\n",
    "printState_8p(path[3])"
   ]
  },
  {
   "cell_type": "markdown",
   "metadata": {},
   "source": [
    ">If we continued to increase the depth, the algorithm would continue to cycle between left and right before taking the down path. We can attempt to solve this problem by using the iterative deepening search below."
   ]
  },
  {
   "cell_type": "code",
   "execution_count": 101,
   "metadata": {},
   "outputs": [
    {
     "name": "stdout",
     "output_type": "stream",
     "text": [
      " 1  -  3 \n",
      " 4  2  5 \n",
      " 6  7  8 \n",
      "\n",
      " -  1  3 \n",
      " 4  2  5 \n",
      " 6  7  8 \n",
      "\n",
      " 1  -  3 \n",
      " 4  2  5 \n",
      " 6  7  8 \n",
      "\n",
      " -  1  3 \n",
      " 4  2  5 \n",
      " 6  7  8 \n",
      "\n",
      " 1  -  3 \n",
      " 4  2  5 \n",
      " 6  7  8 \n",
      "\n",
      " 1  2  3 \n",
      " 4  -  5 \n",
      " 6  7  8 \n",
      "\n",
      " 1  2  3 \n",
      " 4  7  5 \n",
      " 6  -  8 \n"
     ]
    }
   ],
   "source": [
    "path = depthLimitedSearch(startState, goalState, actionsF_8p, takeActionF_8p, 6)\n",
    "printState_8p(startState)\n",
    "print()\n",
    "printState_8p(path[0])\n",
    "print()\n",
    "printState_8p(path[1])\n",
    "print()\n",
    "printState_8p(path[2])\n",
    "print()\n",
    "printState_8p(path[3])\n",
    "print()\n",
    "printState_8p(path[4])\n",
    "print()\n",
    "printState_8p(path[5])"
   ]
  },
  {
   "cell_type": "markdown",
   "metadata": {},
   "source": [
    "### Iterative Deepening DFS <font color = red> Required Implementation!"
   ]
  },
  {
   "cell_type": "markdown",
   "metadata": {},
   "source": [
    "**Iterative Deepening Search** - as discussed in the lectures - is similar to limited-depth search but incrementally increases the depth limit until it finds the goal. It combines the benefits of DFS (lower space complexity) with the benefits of BFS (completeness and conditional optimality). It gradually increases the depth limit until the goal is found and returns the solution path. It takes in as arguments the start state, goal state, actions functions, and the max depth. It cycles through the depths and runs a depth limited search using the parameters. If the goal is found, the solution path is returned. We also insert the start state for completeness. If the goal is not found, then the depth limit is increased by one iteratively until either the goal is found or a failure is returned. And a cutoff is returned if we reach the max depth without reaching the goal - you can set the max threshold to avoid long runtimes."
   ]
  },
  {
   "cell_type": "code",
   "execution_count": 102,
   "metadata": {},
   "outputs": [],
   "source": [
    "# Performs an interative deepening search using the depth limited search function.\n",
    "def iterativeDeepeningSearch(startState, goalState, actionsF, takeActionF, maxDepth):\n",
    "    \n",
    "    ### START CODE HERE ###\n",
    "    # For each depth from 0 to maxDepth\n",
    "    for depth in range(0, maxDepth):\n",
    "        # Perform a depthLimitedSearch using (startState, goalState, actionsF, takeActionF, depth),\n",
    "        # and record the result\n",
    "        result = depthLimitedSearch(startState, goalState, actionsF, takeActionF, depth)\n",
    "        \n",
    "        # If we have failed to reach the goal, i.e. result equals \"failure\", then return \"failure\"\n",
    "        if result == \"failure\":\n",
    "            return \"failure\"\n",
    "        \n",
    "        # If we have not reached the \"cutoff\" using this depth, i.e. result does not equal \"cutoff\",\n",
    "        # then insert the start state into the result and return the result (3 lines below)\n",
    "        if result != \"cutoff\":\n",
    "            result.insert(0,startState)       \n",
    "            return result\n",
    "     ### END CODE HERE ###\n",
    "        \n",
    "    # Return that we hit a cutoff\n",
    "    return \"cutoff\""
   ]
  },
  {
   "cell_type": "markdown",
   "metadata": {},
   "source": [
    ">This `printPath_8p` helper function displays the start state, goal state, and path in a neat way that is easier to read. We will use this in a the following cells to display the results."
   ]
  },
  {
   "cell_type": "code",
   "execution_count": 103,
   "metadata": {},
   "outputs": [],
   "source": [
    "def printPath_8p(startState, goalState, path):\n",
    "    print(\"Path from:\")\n",
    "    printState_8p(startState)\n",
    "    print(\"to:\")\n",
    "    printState_8p(goalState)\n",
    "    print(\"is\", len(path), \"nodes long\", '\\n')\n",
    "    for p in path:\n",
    "        printState_8p(p)\n",
    "        print()"
   ]
  },
  {
   "cell_type": "markdown",
   "metadata": {},
   "source": [
    ">A test of the function is shown below. With the max depth of 3, the function is able to find and return the correct solution path. Notice how `printPath_8p` helps."
   ]
  },
  {
   "cell_type": "code",
   "execution_count": 104,
   "metadata": {},
   "outputs": [
    {
     "name": "stdout",
     "output_type": "stream",
     "text": [
      "Path from:\n",
      " 1  -  3 \n",
      " 4  2  5 \n",
      " 6  7  8 \n",
      "to:\n",
      " 1  2  3 \n",
      " 4  7  5 \n",
      " 6  -  8 \n",
      "is 3 nodes long \n",
      "\n",
      " 1  -  3 \n",
      " 4  2  5 \n",
      " 6  7  8 \n",
      "\n",
      " 1  2  3 \n",
      " 4  -  5 \n",
      " 6  7  8 \n",
      "\n",
      " 1  2  3 \n",
      " 4  7  5 \n",
      " 6  -  8 \n",
      "\n"
     ]
    }
   ],
   "source": [
    "path = iterativeDeepeningSearch(startState, goalState, actionsF_8p, takeActionF_8p, 3)\n",
    "printPath_8p(startState, goalState, path)"
   ]
  },
  {
   "cell_type": "markdown",
   "metadata": {},
   "source": [
    ">If we increase the max depth to large numbers like 1000, notice that the function continues to return the optimal solution. As mentioned above, this is due to the fact that the algorithm gradually tests each depth and returns when the first solution to the goal is found, and once the goal is found the algorithm stops."
   ]
  },
  {
   "cell_type": "code",
   "execution_count": 105,
   "metadata": {},
   "outputs": [
    {
     "name": "stdout",
     "output_type": "stream",
     "text": [
      "Path from:\n",
      " 1  -  3 \n",
      " 4  2  5 \n",
      " 6  7  8 \n",
      "to:\n",
      " 1  2  3 \n",
      " 4  7  5 \n",
      " 6  -  8 \n",
      "is 3 nodes long \n",
      "\n",
      " 1  -  3 \n",
      " 4  2  5 \n",
      " 6  7  8 \n",
      "\n",
      " 1  2  3 \n",
      " 4  -  5 \n",
      " 6  7  8 \n",
      "\n",
      " 1  2  3 \n",
      " 4  7  5 \n",
      " 6  -  8 \n",
      "\n"
     ]
    }
   ],
   "source": [
    "path = iterativeDeepeningSearch(startState, goalState, actionsF_8p, takeActionF_8p, 1000)\n",
    "printPath_8p(startState, goalState, path)"
   ]
  },
  {
   "cell_type": "markdown",
   "metadata": {},
   "source": [
    "### Solvable and Unsolvable 8-Puzzle"
   ]
  },
  {
   "cell_type": "markdown",
   "metadata": {},
   "source": [
    "There are cases in which the [8 puzzle is not solvable](https://www.cs.princeton.edu/courses/archive/fall12/cos226/assignments/8puzzle.html). For example, in the simple example below, switching the position of 1 and 2 makes it impossible to reach the goal state. It would seem that this could be done with a few simple slides, but our test below with iterative deepening set at max depth of 10 still cannot find a solution. In general, an odd number of inversions ([inverted number positions](https://www.geeksforgeeks.org/check-instance-8-puzzle-solvable/)) from the starting state in comparision to the goal state leads to an unsolvable puzzle."
   ]
  },
  {
   "cell_type": "code",
   "execution_count": 106,
   "metadata": {},
   "outputs": [
    {
     "name": "stdout",
     "output_type": "stream",
     "text": [
      " 2  1  3 \n",
      " 4  5  6 \n",
      " 7  8  - \n",
      "\n",
      " 1  2  3 \n",
      " 4  5  6 \n",
      " 7  8  - \n"
     ]
    },
    {
     "data": {
      "text/plain": [
       "'cutoff'"
      ]
     },
     "execution_count": 106,
     "metadata": {},
     "output_type": "execute_result"
    }
   ],
   "source": [
    "startState = [2, 1, 3, 4, 5, 6, 7, 8, 0]\n",
    "goalState = [1, 2, 3, 4, 5, 6, 7, 8, 0]\n",
    "printState_8p(startState)\n",
    "print()\n",
    "printState_8p(goalState)\n",
    "path = iterativeDeepeningSearch(startState, goalState, actionsF_8p, takeActionF_8p, 10)\n",
    "path"
   ]
  },
  {
   "cell_type": "markdown",
   "metadata": {},
   "source": [
    ">One way to ensure that we have a solvable puzzle from the start is to start with the goal state and generate random valid actions on the state. An example function to generate a random start state was given to us and is shown below:"
   ]
  },
  {
   "cell_type": "code",
   "execution_count": 107,
   "metadata": {},
   "outputs": [],
   "source": [
    "# Import the random module\n",
    "import random\n",
    "\n",
    "# This function generates a start state from the goal state using random valid actions\n",
    "def randomStartState(goalState, actionsF, takeActionF, nSteps):\n",
    "    state = goalState\n",
    "    # Loop through the number of steps and take a random action\n",
    "    \n",
    "    for i in range(nSteps):\n",
    "        state = takeActionF(state, random.choice(actionsF(state)))\n",
    "        \n",
    "    # Return the state\n",
    "    return state"
   ]
  },
  {
   "cell_type": "markdown",
   "metadata": {},
   "source": [
    ">To test this function, we start with a goal state below. Then we generate a reachable start state using a series of 10 random valid actions taken on the goal state. Then iterative deepening is used to find the solution back to the goal state. The results are shown below. Note that every time this is run, a different start state and solution will be generated."
   ]
  },
  {
   "cell_type": "code",
   "execution_count": 108,
   "metadata": {},
   "outputs": [
    {
     "name": "stdout",
     "output_type": "stream",
     "text": [
      "Path from:\n",
      " -  2  3 \n",
      " 1  4  6 \n",
      " 7  5  8 \n",
      "to:\n",
      " 1  2  3 \n",
      " 4  5  6 \n",
      " 7  8  - \n",
      "is 5 nodes long \n",
      "\n",
      " -  2  3 \n",
      " 1  4  6 \n",
      " 7  5  8 \n",
      "\n",
      " 1  2  3 \n",
      " -  4  6 \n",
      " 7  5  8 \n",
      "\n",
      " 1  2  3 \n",
      " 4  -  6 \n",
      " 7  5  8 \n",
      "\n",
      " 1  2  3 \n",
      " 4  5  6 \n",
      " 7  -  8 \n",
      "\n",
      " 1  2  3 \n",
      " 4  5  6 \n",
      " 7  8  - \n",
      "\n"
     ]
    }
   ],
   "source": [
    "goalState = [1, 2, 3, 4, 5, 6, 7, 8, 0]\n",
    "startState = randomStartState(goalState, actionsF_8p, takeActionF_8p, 10)\n",
    "path = iterativeDeepeningSearch(startState, goalState, actionsF_8p, takeActionF_8p, 20)\n",
    "printPath_8p(startState, goalState, path)"
   ]
  },
  {
   "cell_type": "markdown",
   "metadata": {},
   "source": [
    "<font color=blue>Congratulations! </font>You finished the first assignemtn of AI class! You learned and praticed a lot of things that we discussed in class. This is one of the cool features of Jupyter Notebooks, you can have all the contents, text, codes and plots in an interactive environment. We are going to have similar assignments for the following sections and chapters. Stay tuned! "
   ]
  },
  {
   "cell_type": "markdown",
   "metadata": {},
   "source": [
    "## Grading\n",
    "\n",
    "For assignment 1, your notebook will be run and graded manually with a maximum of 100 points. Make sure that you get the desired outputs for all cells that you implemented. Also, your notebook should be written with no grammatical and spelling errors and should be nicely-formatted and easy-to-read.\n",
    "\n",
    "The breakdown of the 100 points is as follows:\n",
    "\n",
    "Part I has 50 points:\n",
    "- 20 points: correct outputs for BFS\n",
    "- 20 points: correct outputs for DFS\n",
    "- 10 points: correct answer of the Part I question\n",
    "\n",
    "Part II has 40 points:\n",
    "- 20 points: correct outputs for Depth Limited Search\n",
    "- 20 points: correct outputs for Iterative Deepening DFS\n",
    "\n",
    "The remaining 10 points will be based on your writing and formatting as instructed in the notebook.  Follow the instructions of each section carefully. Points will be deducted if your submitted notebook is not easy to read and follow or if it has grammatical and spelling errors."
   ]
  },
  {
   "cell_type": "markdown",
   "metadata": {},
   "source": [
    "## References\n",
    "\n",
    "- AI A Modern Approach - 3rd Edition - Russel & Norvig Textbook\n",
    "- Professor Chuck Anderson's \"Introduction to AI\" notebooks, Colorado State University - special thanks to CS440 students (Kobayashi et al) for excellent documentation on some Python scripts\n"
   ]
  }
 ],
 "metadata": {
  "anaconda-cloud": {},
  "kernelspec": {
   "display_name": "Python 3",
   "language": "python",
   "name": "python3"
  },
  "language_info": {
   "codemirror_mode": {
    "name": "ipython",
    "version": 3
   },
   "file_extension": ".py",
   "mimetype": "text/x-python",
   "name": "python",
   "nbconvert_exporter": "python",
   "pygments_lexer": "ipython3",
   "version": "3.7.3"
  }
 },
 "nbformat": 4,
 "nbformat_minor": 1
}
